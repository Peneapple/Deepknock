{
 "cells": [
  {
   "cell_type": "code",
   "execution_count": 15,
   "id": "1e38a840-8359-4961-b584-855089cf50dd",
   "metadata": {},
   "outputs": [
    {
     "name": "stdout",
     "output_type": "stream",
     "text": [
      "Scaling...\n",
      " A: min|aij| =  1.000e+00  max|aij| =  1.000e+00  ratio =  1.000e+00\n",
      "Problem data seem to be well scaled\n"
     ]
    }
   ],
   "source": [
    "import cobra\n",
    "model = cobra.io.read_sbml_model('/data1/xpgeng/cross_pathogen/GEM_model/iPC815.xml')"
   ]
  },
  {
   "cell_type": "code",
   "execution_count": 1,
   "id": "d740d648-d025-410b-9442-b88aed159aa1",
   "metadata": {},
   "outputs": [
    {
     "name": "stdout",
     "output_type": "stream",
     "text": [
      "814\n"
     ]
    }
   ],
   "source": [
    "import csv\n",
    "one_gene = {}\n",
    "with open('/data1/xpgeng/cross_pathogen/FBA/' +'iPC815_1KO_growth', 'r') as csvfile:\n",
    "    reader = csv.reader(csvfile)\n",
    "    next(reader) \n",
    "    for row in reader:\n",
    "        #print(len(row))\n",
    "        if len(row) == 4:            \n",
    "            one_gene[row[0]] = int(row[3])           \n",
    "    print(len(one_gene)) "
   ]
  },
  {
   "cell_type": "code",
   "execution_count": 2,
   "id": "a53a7e22-99fe-4f2f-b0f9-333749927302",
   "metadata": {},
   "outputs": [
    {
     "name": "stdout",
     "output_type": "stream",
     "text": [
      "814\n"
     ]
    }
   ],
   "source": [
    "gene_list = []\n",
    "for k,v in one_gene.items():\n",
    "    gene_list.append(k)\n",
    "print(len(gene_list))"
   ]
  },
  {
   "cell_type": "code",
   "execution_count": 3,
   "id": "d515b213",
   "metadata": {},
   "outputs": [],
   "source": [
    "import csv\n",
    "from itertools import combinations\n",
    "from tqdm import tqdm\n",
    "import cobra.flux_analysis\n",
    "from multiprocessing import Pool\n",
    "\n",
    "# Adjust the function to use model and gene_list as arguments\n",
    "def knockout(gene, gene_list, model):\n",
    "    rest_list = [g for g in gene_list if g != gene]\n",
    "    twogene = list(combinations(rest_list, 2))\n",
    "    \n",
    "    filepath = f'iPC_815_{gene}.csv'\n",
    "\n",
    "    with open('/data1/xpgeng/cross_pathogen/FBA/iPC815-3KO/' + filepath, mode='a', newline='') as csvfile:\n",
    "        writer = csv.writer(csvfile)\n",
    "        writer.writerow(['Gene', 'Gene1', 'Gene2', 'Initial Growth', 'Altered Growth', 'Label'])\n",
    "\n",
    "        initial_state = cobra.flux_analysis.pfba(model)\n",
    "        initial_growth = round(initial_state.fluxes['BIOMASS_37C'], 3)\n",
    "\n",
    "        for gene1, gene2 in tqdm(twogene):\n",
    "            with model:\n",
    "                try:\n",
    "                    model.genes.get_by_id(gene).knock_out()\n",
    "                    model.genes.get_by_id(gene1).knock_out()\n",
    "                    model.genes.get_by_id(gene2).knock_out()\n",
    "                    altered_state = cobra.flux_analysis.pfba(model)\n",
    "                    altered_growth = round(altered_state.fluxes['BIOMASS_37C'], 3)\n",
    "                    label = 1 if altered_growth < 0.1 * initial_growth else 0\n",
    "                    writer.writerow([gene, gene1, gene2, initial_growth, altered_growth, label])\n",
    "                except Exception as e:\n",
    "                    writer.writerow([gene, gene1, gene2, 'Failed', str(e)])"
   ]
  },
  {
   "cell_type": "code",
   "execution_count": null,
   "id": "99461802",
   "metadata": {},
   "outputs": [
    {
     "name": "stderr",
     "output_type": "stream",
     "text": [
      "  1%|▌                                                                                            | 1850/330078 [13:52<47:26:16,  1.92it/s]"
     ]
    }
   ],
   "source": [
    "def run_knockouts(gene_list, model):\n",
    "    # Slice the first 100 genes from the list\n",
    "    top_genes = gene_list[:100]\n",
    "    \n",
    "    # Create a multiprocessing pool with 100 workers\n",
    "    with Pool(100) as pool:\n",
    "        # Each pool worker will execute the `knockout` function with a gene, the full gene list, and the model\n",
    "        results = pool.starmap(knockout, [(gene, gene_list, model) for gene in top_genes])\n",
    "\n",
    "if __name__ == \"__main__\":\n",
    "    run_knockouts(gene_list, model)"
   ]
  },
  {
   "cell_type": "code",
   "execution_count": null,
   "id": "7247b62c",
   "metadata": {},
   "outputs": [
    {
     "name": "stderr",
     "output_type": "stream",
     "text": [
      "  0%|                                   | 350/330078 [01:29<20:48:14,  4.40it/s]"
     ]
    }
   ],
   "source": [
    "def run_knockouts(gene_list, model):\n",
    "    # Slice the first 100 genes from the list\n",
    "    top_genes = gene_list[100:200]\n",
    "    \n",
    "    # Create a multiprocessing pool with 100 workers\n",
    "    with Pool(100) as pool:\n",
    "        # Each pool worker will execute the `knockout` function with a gene, the full gene list, and the model\n",
    "        results = pool.starmap(knockout, [(gene, gene_list, model) for gene in top_genes])\n",
    "\n",
    "if __name__ == \"__main__\":\n",
    "    run_knockouts(gene_list, model)"
   ]
  },
  {
   "cell_type": "code",
   "execution_count": null,
   "id": "b060c1db",
   "metadata": {},
   "outputs": [
    {
     "name": "stderr",
     "output_type": "stream",
     "text": [
      "  0%|                                   | 135/330078 [00:55<39:51:01,  2.30it/s]"
     ]
    }
   ],
   "source": [
    "def run_knockouts(gene_list, model):\n",
    "    # Slice the first 100 genes from the list\n",
    "    top_genes = gene_list[200:300]\n",
    "    \n",
    "    # Create a multiprocessing pool with 100 workers\n",
    "    with Pool(100) as pool:\n",
    "        # Each pool worker will execute the `knockout` function with a gene, the full gene list, and the model\n",
    "        results = pool.starmap(knockout, [(gene, gene_list, model) for gene in top_genes])\n",
    "\n",
    "if __name__ == \"__main__\":\n",
    "    run_knockouts(gene_list, model)"
   ]
  },
  {
   "cell_type": "code",
   "execution_count": null,
   "id": "c3b3fd30",
   "metadata": {},
   "outputs": [
    {
     "name": "stderr",
     "output_type": "stream",
     "text": [
      "  0%|                          | 18/330078 [00:05<24:05:20,  3.81it/s]"
     ]
    }
   ],
   "source": [
    "def run_knockouts(gene_list, model):\n",
    "    # Slice the first 100 genes from the list\n",
    "    top_genes = gene_list[300:400]\n",
    "    \n",
    "    # Create a multiprocessing pool with 100 workers\n",
    "    with Pool(100) as pool:\n",
    "        # Each pool worker will execute the `knockout` function with a gene, the full gene list, and the model\n",
    "        results = pool.starmap(knockout, [(gene, gene_list, model) for gene in top_genes])\n",
    "\n",
    "if __name__ == \"__main__\":\n",
    "    run_knockouts(gene_list, model)"
   ]
  },
  {
   "cell_type": "code",
   "execution_count": null,
   "id": "d7f54b58",
   "metadata": {},
   "outputs": [
    {
     "name": "stderr",
     "output_type": "stream",
     "text": [
      "  1%|▏                       | 1888/330078 [08:37<23:55:22,  3.81it/s]"
     ]
    }
   ],
   "source": [
    "def run_knockouts(gene_list, model):\n",
    "    # Slice the first 100 genes from the list\n",
    "    top_genes = gene_list[700:]\n",
    "    \n",
    "    # Create a multiprocessing pool with 100 workers\n",
    "    with Pool(100) as pool:\n",
    "        # Each pool worker will execute the `knockout` function with a gene, the full gene list, and the model\n",
    "        results = pool.starmap(knockout, [(gene, gene_list, model) for gene in top_genes])\n",
    "\n",
    "if __name__ == \"__main__\":\n",
    "    run_knockouts(gene_list, model)"
   ]
  },
  {
   "cell_type": "markdown",
   "id": "5937035c",
   "metadata": {},
   "source": [
    "due to YPO3097 missing some data, we rerun it \\\n",
    "but some data still missing."
   ]
  },
  {
   "cell_type": "code",
   "execution_count": null,
   "id": "bae6e248",
   "metadata": {},
   "outputs": [
    {
     "name": "stderr",
     "output_type": "stream",
     "text": [
      " 93%|██████████████████▌ | 305692/330078 [32:37:08<1:14:19,  5.47it/s]"
     ]
    }
   ],
   "source": [
    "def run_knockouts(gene_list, model):\n",
    "    # Slice the first 100 genes from the list\n",
    "    top_genes = ['YPO3097']\n",
    "    \n",
    "    # Create a multiprocessing pool with 100 workers\n",
    "    with Pool(1) as pool:\n",
    "        # Each pool worker will execute the `knockout` function with a gene, the full gene list, and the model\n",
    "        results = pool.starmap(knockout, [(gene, gene_list, model) for gene in top_genes])\n",
    "\n",
    "if __name__ == \"__main__\":\n",
    "    run_knockouts(gene_list, model)"
   ]
  },
  {
   "cell_type": "code",
   "execution_count": null,
   "id": "088ddd77",
   "metadata": {},
   "outputs": [],
   "source": []
  },
  {
   "cell_type": "code",
   "execution_count": 21,
   "id": "942a8044",
   "metadata": {
    "scrolled": true
   },
   "outputs": [
    {
     "name": "stderr",
     "output_type": "stream",
     "text": [
      "Reading CSV files:   0%|                      | 0/814 [00:00<?, ?it/s]/tmp/ipykernel_13691/1791842788.py:12: DtypeWarning: Columns (3,4) have mixed types. Specify dtype option on import or set low_memory=False.\n",
      "  df = pd.read_csv(file_path)\n",
      "Reading CSV files:   0%|              | 1/814 [00:00<09:04,  1.49it/s]/tmp/ipykernel_13691/1791842788.py:12: DtypeWarning: Columns (3,4) have mixed types. Specify dtype option on import or set low_memory=False.\n",
      "  df = pd.read_csv(file_path)\n",
      "Reading CSV files:   0%|              | 2/814 [00:01<08:21,  1.62it/s]/tmp/ipykernel_13691/1791842788.py:12: DtypeWarning: Columns (3,4) have mixed types. Specify dtype option on import or set low_memory=False.\n",
      "  df = pd.read_csv(file_path)\n",
      "Reading CSV files:   0%|              | 3/814 [00:01<08:00,  1.69it/s]/tmp/ipykernel_13691/1791842788.py:12: DtypeWarning: Columns (3,4) have mixed types. Specify dtype option on import or set low_memory=False.\n",
      "  df = pd.read_csv(file_path)\n",
      "Reading CSV files:   1%|              | 7/814 [00:04<07:47,  1.72it/s]/tmp/ipykernel_13691/1791842788.py:12: DtypeWarning: Columns (3,4) have mixed types. Specify dtype option on import or set low_memory=False.\n",
      "  df = pd.read_csv(file_path)\n",
      "Reading CSV files:   1%|▏             | 8/814 [00:04<07:47,  1.73it/s]/tmp/ipykernel_13691/1791842788.py:12: DtypeWarning: Columns (3,4) have mixed types. Specify dtype option on import or set low_memory=False.\n",
      "  df = pd.read_csv(file_path)\n",
      "Reading CSV files:   1%|▏             | 9/814 [00:05<08:47,  1.53it/s]/tmp/ipykernel_13691/1791842788.py:12: DtypeWarning: Columns (3,4) have mixed types. Specify dtype option on import or set low_memory=False.\n",
      "  df = pd.read_csv(file_path)\n",
      "Reading CSV files:   1%|▏            | 10/814 [00:06<08:13,  1.63it/s]/tmp/ipykernel_13691/1791842788.py:12: DtypeWarning: Columns (3,4) have mixed types. Specify dtype option on import or set low_memory=False.\n",
      "  df = pd.read_csv(file_path)\n",
      "Reading CSV files:   1%|▏            | 11/814 [00:06<07:57,  1.68it/s]/tmp/ipykernel_13691/1791842788.py:12: DtypeWarning: Columns (3,4) have mixed types. Specify dtype option on import or set low_memory=False.\n",
      "  df = pd.read_csv(file_path)\n",
      "Reading CSV files:   2%|▎            | 16/814 [00:10<08:02,  1.65it/s]/tmp/ipykernel_13691/1791842788.py:12: DtypeWarning: Columns (3,4) have mixed types. Specify dtype option on import or set low_memory=False.\n",
      "  df = pd.read_csv(file_path)\n",
      "Reading CSV files:   2%|▎            | 20/814 [00:12<07:45,  1.70it/s]/tmp/ipykernel_13691/1791842788.py:12: DtypeWarning: Columns (3,4) have mixed types. Specify dtype option on import or set low_memory=False.\n",
      "  df = pd.read_csv(file_path)\n",
      "Reading CSV files:   3%|▍            | 25/814 [00:16<08:53,  1.48it/s]/tmp/ipykernel_13691/1791842788.py:12: DtypeWarning: Columns (3,4) have mixed types. Specify dtype option on import or set low_memory=False.\n",
      "  df = pd.read_csv(file_path)\n",
      "Reading CSV files:   3%|▍            | 26/814 [00:16<08:29,  1.55it/s]/tmp/ipykernel_13691/1791842788.py:12: DtypeWarning: Columns (3,4) have mixed types. Specify dtype option on import or set low_memory=False.\n",
      "  df = pd.read_csv(file_path)\n",
      "Reading CSV files:   3%|▍            | 27/814 [00:18<11:51,  1.11it/s]/tmp/ipykernel_13691/1791842788.py:12: DtypeWarning: Columns (3,4) have mixed types. Specify dtype option on import or set low_memory=False.\n",
      "  df = pd.read_csv(file_path)\n",
      "Reading CSV files:   4%|▍            | 29/814 [00:19<10:40,  1.23it/s]/tmp/ipykernel_13691/1791842788.py:12: DtypeWarning: Columns (3,4) have mixed types. Specify dtype option on import or set low_memory=False.\n",
      "  df = pd.read_csv(file_path)\n",
      "Reading CSV files:   4%|▌            | 35/814 [00:23<07:26,  1.74it/s]/tmp/ipykernel_13691/1791842788.py:12: DtypeWarning: Columns (3,4) have mixed types. Specify dtype option on import or set low_memory=False.\n",
      "  df = pd.read_csv(file_path)\n",
      "Reading CSV files:   4%|▌            | 36/814 [00:23<07:25,  1.75it/s]/tmp/ipykernel_13691/1791842788.py:12: DtypeWarning: Columns (3,4) have mixed types. Specify dtype option on import or set low_memory=False.\n",
      "  df = pd.read_csv(file_path)\n",
      "Reading CSV files:   5%|▌            | 37/814 [00:24<07:22,  1.75it/s]/tmp/ipykernel_13691/1791842788.py:12: DtypeWarning: Columns (3,4) have mixed types. Specify dtype option on import or set low_memory=False.\n",
      "  df = pd.read_csv(file_path)\n",
      "Reading CSV files:   5%|▋            | 43/814 [00:28<07:43,  1.66it/s]/tmp/ipykernel_13691/1791842788.py:12: DtypeWarning: Columns (3,4) have mixed types. Specify dtype option on import or set low_memory=False.\n",
      "  df = pd.read_csv(file_path)\n",
      "Reading CSV files:   6%|▋            | 45/814 [00:29<07:35,  1.69it/s]/tmp/ipykernel_13691/1791842788.py:12: DtypeWarning: Columns (3,4) have mixed types. Specify dtype option on import or set low_memory=False.\n",
      "  df = pd.read_csv(file_path)\n",
      "Reading CSV files:   6%|▋            | 46/814 [00:29<07:32,  1.70it/s]/tmp/ipykernel_13691/1791842788.py:12: DtypeWarning: Columns (3,4) have mixed types. Specify dtype option on import or set low_memory=False.\n",
      "  df = pd.read_csv(file_path)\n",
      "Reading CSV files:   6%|▊            | 47/814 [00:31<10:41,  1.20it/s]/tmp/ipykernel_13691/1791842788.py:12: DtypeWarning: Columns (3,4) have mixed types. Specify dtype option on import or set low_memory=False.\n",
      "  df = pd.read_csv(file_path)\n",
      "Reading CSV files:   6%|▊            | 48/814 [00:32<09:50,  1.30it/s]/tmp/ipykernel_13691/1791842788.py:12: DtypeWarning: Columns (3,4) have mixed types. Specify dtype option on import or set low_memory=False.\n",
      "  df = pd.read_csv(file_path)\n",
      "Reading CSV files:   7%|▊            | 53/814 [00:34<07:12,  1.76it/s]/tmp/ipykernel_13691/1791842788.py:12: DtypeWarning: Columns (3,4) have mixed types. Specify dtype option on import or set low_memory=False.\n",
      "  df = pd.read_csv(file_path)\n",
      "Reading CSV files:   7%|▊            | 54/814 [00:35<07:06,  1.78it/s]/tmp/ipykernel_13691/1791842788.py:12: DtypeWarning: Columns (3,4) have mixed types. Specify dtype option on import or set low_memory=False.\n",
      "  df = pd.read_csv(file_path)\n",
      "Reading CSV files:   9%|█▏           | 72/814 [00:48<09:08,  1.35it/s]/tmp/ipykernel_13691/1791842788.py:12: DtypeWarning: Columns (3,4) have mixed types. Specify dtype option on import or set low_memory=False.\n",
      "  df = pd.read_csv(file_path)\n",
      "Reading CSV files:   9%|█▏           | 74/814 [00:49<07:40,  1.61it/s]/tmp/ipykernel_13691/1791842788.py:12: DtypeWarning: Columns (3,4) have mixed types. Specify dtype option on import or set low_memory=False.\n",
      "  df = pd.read_csv(file_path)\n",
      "Reading CSV files:   9%|█▏           | 76/814 [00:50<07:02,  1.75it/s]/tmp/ipykernel_13691/1791842788.py:12: DtypeWarning: Columns (3,4) have mixed types. Specify dtype option on import or set low_memory=False.\n",
      "  df = pd.read_csv(file_path)\n",
      "Reading CSV files:  10%|█▎           | 84/814 [00:55<07:11,  1.69it/s]/tmp/ipykernel_13691/1791842788.py:12: DtypeWarning: Columns (3,4) have mixed types. Specify dtype option on import or set low_memory=False.\n",
      "  df = pd.read_csv(file_path)\n",
      "Reading CSV files:  10%|█▎           | 85/814 [00:56<07:00,  1.73it/s]/tmp/ipykernel_13691/1791842788.py:12: DtypeWarning: Columns (3,4) have mixed types. Specify dtype option on import or set low_memory=False.\n",
      "  df = pd.read_csv(file_path)\n",
      "Reading CSV files:  11%|█▍           | 89/814 [00:58<06:19,  1.91it/s]/tmp/ipykernel_13691/1791842788.py:12: DtypeWarning: Columns (3,4) have mixed types. Specify dtype option on import or set low_memory=False.\n",
      "  df = pd.read_csv(file_path)\n",
      "Reading CSV files:  12%|█▌           | 95/814 [01:02<07:07,  1.68it/s]/tmp/ipykernel_13691/1791842788.py:12: DtypeWarning: Columns (3,4) have mixed types. Specify dtype option on import or set low_memory=False.\n",
      "  df = pd.read_csv(file_path)\n",
      "Reading CSV files:  12%|█▌           | 96/814 [01:02<07:02,  1.70it/s]/tmp/ipykernel_13691/1791842788.py:12: DtypeWarning: Columns (3,4) have mixed types. Specify dtype option on import or set low_memory=False.\n",
      "  df = pd.read_csv(file_path)\n",
      "Reading CSV files:  12%|█▌           | 97/814 [01:03<06:51,  1.74it/s]/tmp/ipykernel_13691/1791842788.py:12: DtypeWarning: Columns (3,4) have mixed types. Specify dtype option on import or set low_memory=False.\n",
      "  df = pd.read_csv(file_path)\n"
     ]
    },
    {
     "name": "stderr",
     "output_type": "stream",
     "text": [
      "Reading CSV files:  12%|█▌           | 98/814 [01:03<06:49,  1.75it/s]/tmp/ipykernel_13691/1791842788.py:12: DtypeWarning: Columns (3,4) have mixed types. Specify dtype option on import or set low_memory=False.\n",
      "  df = pd.read_csv(file_path)\n",
      "Reading CSV files:  12%|█▌           | 99/814 [01:05<11:03,  1.08it/s]/tmp/ipykernel_13691/1791842788.py:12: DtypeWarning: Columns (3,4) have mixed types. Specify dtype option on import or set low_memory=False.\n",
      "  df = pd.read_csv(file_path)\n",
      "Reading CSV files:  13%|█▌          | 107/814 [01:12<11:11,  1.05it/s]/tmp/ipykernel_13691/1791842788.py:12: DtypeWarning: Columns (3,4) have mixed types. Specify dtype option on import or set low_memory=False.\n",
      "  df = pd.read_csv(file_path)\n",
      "Reading CSV files:  14%|█▌          | 110/814 [01:13<08:28,  1.38it/s]/tmp/ipykernel_13691/1791842788.py:12: DtypeWarning: Columns (3,4) have mixed types. Specify dtype option on import or set low_memory=False.\n",
      "  df = pd.read_csv(file_path)\n",
      "Reading CSV files:  15%|█▊          | 122/814 [01:22<07:40,  1.50it/s]/tmp/ipykernel_13691/1791842788.py:12: DtypeWarning: Columns (3,4) have mixed types. Specify dtype option on import or set low_memory=False.\n",
      "  df = pd.read_csv(file_path)\n",
      "Reading CSV files:  15%|█▊          | 124/814 [01:23<06:58,  1.65it/s]/tmp/ipykernel_13691/1791842788.py:12: DtypeWarning: Columns (3,4) have mixed types. Specify dtype option on import or set low_memory=False.\n",
      "  df = pd.read_csv(file_path)\n",
      "Reading CSV files:  16%|█▊          | 127/814 [01:24<06:21,  1.80it/s]/tmp/ipykernel_13691/1791842788.py:12: DtypeWarning: Columns (3,4) have mixed types. Specify dtype option on import or set low_memory=False.\n",
      "  df = pd.read_csv(file_path)\n",
      "Reading CSV files:  17%|██          | 136/814 [01:30<06:22,  1.77it/s]/tmp/ipykernel_13691/1791842788.py:12: DtypeWarning: Columns (3,4) have mixed types. Specify dtype option on import or set low_memory=False.\n",
      "  df = pd.read_csv(file_path)\n",
      "Reading CSV files:  17%|██          | 141/814 [01:34<07:08,  1.57it/s]/tmp/ipykernel_13691/1791842788.py:12: DtypeWarning: Columns (3,4) have mixed types. Specify dtype option on import or set low_memory=False.\n",
      "  df = pd.read_csv(file_path)\n",
      "Reading CSV files:  17%|██          | 142/814 [01:34<06:49,  1.64it/s]/tmp/ipykernel_13691/1791842788.py:12: DtypeWarning: Columns (3,4) have mixed types. Specify dtype option on import or set low_memory=False.\n",
      "  df = pd.read_csv(file_path)\n",
      "Reading CSV files:  18%|██          | 143/814 [01:35<06:37,  1.69it/s]/tmp/ipykernel_13691/1791842788.py:12: DtypeWarning: Columns (3,4) have mixed types. Specify dtype option on import or set low_memory=False.\n",
      "  df = pd.read_csv(file_path)\n",
      "Reading CSV files:  18%|██          | 144/814 [01:35<06:29,  1.72it/s]/tmp/ipykernel_13691/1791842788.py:12: DtypeWarning: Columns (3,4) have mixed types. Specify dtype option on import or set low_memory=False.\n",
      "  df = pd.read_csv(file_path)\n",
      "Reading CSV files:  18%|██▏         | 145/814 [01:37<08:33,  1.30it/s]/tmp/ipykernel_13691/1791842788.py:12: DtypeWarning: Columns (3,4) have mixed types. Specify dtype option on import or set low_memory=False.\n",
      "  df = pd.read_csv(file_path)\n",
      "Reading CSV files:  18%|██▏         | 146/814 [01:37<08:22,  1.33it/s]/tmp/ipykernel_13691/1791842788.py:12: DtypeWarning: Columns (3,4) have mixed types. Specify dtype option on import or set low_memory=False.\n",
      "  df = pd.read_csv(file_path)\n",
      "Reading CSV files:  18%|██▏         | 147/814 [01:38<08:20,  1.33it/s]/tmp/ipykernel_13691/1791842788.py:12: DtypeWarning: Columns (3,4) have mixed types. Specify dtype option on import or set low_memory=False.\n",
      "  df = pd.read_csv(file_path)\n",
      "Reading CSV files:  18%|██▏         | 149/814 [01:39<07:05,  1.56it/s]/tmp/ipykernel_13691/1791842788.py:12: DtypeWarning: Columns (3,4) have mixed types. Specify dtype option on import or set low_memory=False.\n",
      "  df = pd.read_csv(file_path)\n",
      "Reading CSV files:  19%|██▏         | 152/814 [01:41<06:00,  1.84it/s]/tmp/ipykernel_13691/1791842788.py:12: DtypeWarning: Columns (3,4) have mixed types. Specify dtype option on import or set low_memory=False.\n",
      "  df = pd.read_csv(file_path)\n",
      "Reading CSV files:  20%|██▎         | 159/814 [01:45<05:56,  1.84it/s]/tmp/ipykernel_13691/1791842788.py:12: DtypeWarning: Columns (3,4) have mixed types. Specify dtype option on import or set low_memory=False.\n",
      "  df = pd.read_csv(file_path)\n",
      "Reading CSV files:  20%|██▎         | 161/814 [01:46<05:32,  1.96it/s]/tmp/ipykernel_13691/1791842788.py:12: DtypeWarning: Columns (3,4) have mixed types. Specify dtype option on import or set low_memory=False.\n",
      "  df = pd.read_csv(file_path)\n",
      "Reading CSV files:  20%|██▍         | 163/814 [01:48<07:58,  1.36it/s]/tmp/ipykernel_13691/1791842788.py:12: DtypeWarning: Columns (3,4) have mixed types. Specify dtype option on import or set low_memory=False.\n",
      "  df = pd.read_csv(file_path)\n",
      "Reading CSV files:  20%|██▍         | 165/814 [01:49<06:50,  1.58it/s]/tmp/ipykernel_13691/1791842788.py:12: DtypeWarning: Columns (3,4) have mixed types. Specify dtype option on import or set low_memory=False.\n",
      "  df = pd.read_csv(file_path)\n",
      "Reading CSV files:  20%|██▍         | 166/814 [01:50<06:28,  1.67it/s]/tmp/ipykernel_13691/1791842788.py:12: DtypeWarning: Columns (3,4) have mixed types. Specify dtype option on import or set low_memory=False.\n",
      "  df = pd.read_csv(file_path)\n",
      "Reading CSV files:  21%|██▌         | 171/814 [01:53<07:53,  1.36it/s]/tmp/ipykernel_13691/1791842788.py:12: DtypeWarning: Columns (3,4) have mixed types. Specify dtype option on import or set low_memory=False.\n",
      "  df = pd.read_csv(file_path)\n",
      "Reading CSV files:  21%|██▌         | 175/814 [01:55<06:13,  1.71it/s]/tmp/ipykernel_13691/1791842788.py:12: DtypeWarning: Columns (3,4) have mixed types. Specify dtype option on import or set low_memory=False.\n",
      "  df = pd.read_csv(file_path)\n",
      "Reading CSV files:  22%|██▌         | 176/814 [01:55<05:53,  1.80it/s]/tmp/ipykernel_13691/1791842788.py:12: DtypeWarning: Columns (3,4) have mixed types. Specify dtype option on import or set low_memory=False.\n",
      "  df = pd.read_csv(file_path)\n",
      "Reading CSV files:  22%|██▌         | 177/814 [01:56<05:26,  1.95it/s]/tmp/ipykernel_13691/1791842788.py:12: DtypeWarning: Columns (3,4) have mixed types. Specify dtype option on import or set low_memory=False.\n",
      "  df = pd.read_csv(file_path)\n",
      "Reading CSV files:  22%|██▌         | 178/814 [01:56<05:23,  1.97it/s]/tmp/ipykernel_13691/1791842788.py:12: DtypeWarning: Columns (3,4) have mixed types. Specify dtype option on import or set low_memory=False.\n",
      "  df = pd.read_csv(file_path)\n",
      "Reading CSV files:  22%|██▋         | 181/814 [01:58<05:01,  2.10it/s]/tmp/ipykernel_13691/1791842788.py:12: DtypeWarning: Columns (3,4) have mixed types. Specify dtype option on import or set low_memory=False.\n",
      "  df = pd.read_csv(file_path)\n",
      "Reading CSV files:  22%|██▋         | 182/814 [01:59<08:13,  1.28it/s]/tmp/ipykernel_13691/1791842788.py:12: DtypeWarning: Columns (3,4) have mixed types. Specify dtype option on import or set low_memory=False.\n",
      "  df = pd.read_csv(file_path)\n",
      "Reading CSV files:  23%|██▊         | 191/814 [02:04<07:20,  1.41it/s]/tmp/ipykernel_13691/1791842788.py:12: DtypeWarning: Columns (3,4) have mixed types. Specify dtype option on import or set low_memory=False.\n",
      "  df = pd.read_csv(file_path)\n",
      "Reading CSV files:  24%|██▉         | 197/814 [02:07<05:12,  1.97it/s]/tmp/ipykernel_13691/1791842788.py:12: DtypeWarning: Columns (3,4) have mixed types. Specify dtype option on import or set low_memory=False.\n",
      "  df = pd.read_csv(file_path)\n",
      "Reading CSV files:  24%|██▉         | 199/814 [02:08<04:48,  2.14it/s]/tmp/ipykernel_13691/1791842788.py:12: DtypeWarning: Columns (3,4) have mixed types. Specify dtype option on import or set low_memory=False.\n",
      "  df = pd.read_csv(file_path)\n",
      "Reading CSV files:  25%|██▉         | 200/814 [02:08<04:45,  2.15it/s]/tmp/ipykernel_13691/1791842788.py:12: DtypeWarning: Columns (3,4) have mixed types. Specify dtype option on import or set low_memory=False.\n",
      "  df = pd.read_csv(file_path)\n",
      "Reading CSV files:  25%|██▉         | 203/814 [02:11<07:18,  1.39it/s]/tmp/ipykernel_13691/1791842788.py:12: DtypeWarning: Columns (3,4) have mixed types. Specify dtype option on import or set low_memory=False.\n",
      "  df = pd.read_csv(file_path)\n"
     ]
    },
    {
     "name": "stderr",
     "output_type": "stream",
     "text": [
      "Reading CSV files:  26%|███         | 208/814 [02:13<05:34,  1.81it/s]/tmp/ipykernel_13691/1791842788.py:12: DtypeWarning: Columns (3,4) have mixed types. Specify dtype option on import or set low_memory=False.\n",
      "  df = pd.read_csv(file_path)\n",
      "Reading CSV files:  26%|███         | 209/814 [02:14<05:27,  1.85it/s]/tmp/ipykernel_13691/1791842788.py:12: DtypeWarning: Columns (3,4) have mixed types. Specify dtype option on import or set low_memory=False.\n",
      "  df = pd.read_csv(file_path)\n",
      "Reading CSV files:  26%|███         | 211/814 [02:16<08:32,  1.18it/s]/tmp/ipykernel_13691/1791842788.py:12: DtypeWarning: Columns (3,4) have mixed types. Specify dtype option on import or set low_memory=False.\n",
      "  df = pd.read_csv(file_path)\n",
      "Reading CSV files:  26%|███▏        | 212/814 [02:17<07:33,  1.33it/s]/tmp/ipykernel_13691/1791842788.py:12: DtypeWarning: Columns (3,4) have mixed types. Specify dtype option on import or set low_memory=False.\n",
      "  df = pd.read_csv(file_path)\n",
      "Reading CSV files:  28%|███▍        | 230/814 [02:28<05:26,  1.79it/s]/tmp/ipykernel_13691/1791842788.py:12: DtypeWarning: Columns (3,4) have mixed types. Specify dtype option on import or set low_memory=False.\n",
      "  df = pd.read_csv(file_path)\n",
      "Reading CSV files:  28%|███▍        | 231/814 [02:28<05:13,  1.86it/s]/tmp/ipykernel_13691/1791842788.py:12: DtypeWarning: Columns (3,4) have mixed types. Specify dtype option on import or set low_memory=False.\n",
      "  df = pd.read_csv(file_path)\n",
      "Reading CSV files:  29%|███▍        | 236/814 [02:32<07:15,  1.33it/s]/tmp/ipykernel_13691/1791842788.py:12: DtypeWarning: Columns (3,4) have mixed types. Specify dtype option on import or set low_memory=False.\n",
      "  df = pd.read_csv(file_path)\n",
      "Reading CSV files:  29%|███▌        | 239/814 [02:34<05:35,  1.71it/s]/tmp/ipykernel_13691/1791842788.py:12: DtypeWarning: Columns (3,4) have mixed types. Specify dtype option on import or set low_memory=False.\n",
      "  df = pd.read_csv(file_path)\n",
      "Reading CSV files:  29%|███▌        | 240/814 [02:34<05:29,  1.74it/s]/tmp/ipykernel_13691/1791842788.py:12: DtypeWarning: Columns (3,4) have mixed types. Specify dtype option on import or set low_memory=False.\n",
      "  df = pd.read_csv(file_path)\n",
      "Reading CSV files:  30%|███▌        | 243/814 [02:37<07:09,  1.33it/s]/tmp/ipykernel_13691/1791842788.py:12: DtypeWarning: Columns (3,4) have mixed types. Specify dtype option on import or set low_memory=False.\n",
      "  df = pd.read_csv(file_path)\n",
      "Reading CSV files:  31%|███▋        | 250/814 [02:40<04:38,  2.02it/s]/tmp/ipykernel_13691/1791842788.py:12: DtypeWarning: Columns (3,4) have mixed types. Specify dtype option on import or set low_memory=False.\n",
      "  df = pd.read_csv(file_path)\n",
      "Reading CSV files:  31%|███▋        | 251/814 [02:41<04:31,  2.07it/s]/tmp/ipykernel_13691/1791842788.py:12: DtypeWarning: Columns (3,4) have mixed types. Specify dtype option on import or set low_memory=False.\n",
      "  df = pd.read_csv(file_path)\n",
      "Reading CSV files:  31%|███▋        | 254/814 [02:43<05:36,  1.66it/s]/tmp/ipykernel_13691/1791842788.py:12: DtypeWarning: Columns (3,4) have mixed types. Specify dtype option on import or set low_memory=False.\n",
      "  df = pd.read_csv(file_path)\n",
      "Reading CSV files:  32%|███▊        | 257/814 [02:44<04:34,  2.03it/s]/tmp/ipykernel_13691/1791842788.py:12: DtypeWarning: Columns (3,4) have mixed types. Specify dtype option on import or set low_memory=False.\n",
      "  df = pd.read_csv(file_path)\n",
      "Reading CSV files:  32%|███▊        | 259/814 [02:45<04:20,  2.13it/s]/tmp/ipykernel_13691/1791842788.py:12: DtypeWarning: Columns (3,4) have mixed types. Specify dtype option on import or set low_memory=False.\n",
      "  df = pd.read_csv(file_path)\n",
      "Reading CSV files:  32%|███▊        | 260/814 [02:46<04:27,  2.07it/s]/tmp/ipykernel_13691/1791842788.py:12: DtypeWarning: Columns (3,4) have mixed types. Specify dtype option on import or set low_memory=False.\n",
      "  df = pd.read_csv(file_path)\n",
      "Reading CSV files:  33%|███▉        | 270/814 [02:51<04:14,  2.14it/s]/tmp/ipykernel_13691/1791842788.py:12: DtypeWarning: Columns (3,4) have mixed types. Specify dtype option on import or set low_memory=False.\n",
      "  df = pd.read_csv(file_path)\n",
      "Reading CSV files:  34%|████        | 275/814 [02:54<04:50,  1.86it/s]/tmp/ipykernel_13691/1791842788.py:12: DtypeWarning: Columns (3,4) have mixed types. Specify dtype option on import or set low_memory=False.\n",
      "  df = pd.read_csv(file_path)\n",
      "Reading CSV files:  35%|████▏       | 282/814 [02:57<03:46,  2.35it/s]/tmp/ipykernel_13691/1791842788.py:12: DtypeWarning: Columns (3,4) have mixed types. Specify dtype option on import or set low_memory=False.\n",
      "  df = pd.read_csv(file_path)\n",
      "Reading CSV files:  35%|████▏       | 283/814 [02:58<03:55,  2.25it/s]/tmp/ipykernel_13691/1791842788.py:12: DtypeWarning: Columns (3,4) have mixed types. Specify dtype option on import or set low_memory=False.\n",
      "  df = pd.read_csv(file_path)\n",
      "Reading CSV files:  36%|████▎       | 289/814 [03:02<04:41,  1.86it/s]/tmp/ipykernel_13691/1791842788.py:12: DtypeWarning: Columns (3,4) have mixed types. Specify dtype option on import or set low_memory=False.\n",
      "  df = pd.read_csv(file_path)\n",
      "Reading CSV files:  36%|████▎       | 291/814 [03:03<04:24,  1.97it/s]/tmp/ipykernel_13691/1791842788.py:12: DtypeWarning: Columns (3,4) have mixed types. Specify dtype option on import or set low_memory=False.\n",
      "  df = pd.read_csv(file_path)\n",
      "Reading CSV files:  36%|████▎       | 294/814 [03:06<06:26,  1.35it/s]/tmp/ipykernel_13691/1791842788.py:12: DtypeWarning: Columns (3,4) have mixed types. Specify dtype option on import or set low_memory=False.\n",
      "  df = pd.read_csv(file_path)\n",
      "Reading CSV files:  36%|████▎       | 296/814 [03:06<05:10,  1.67it/s]/tmp/ipykernel_13691/1791842788.py:12: DtypeWarning: Columns (3,4) have mixed types. Specify dtype option on import or set low_memory=False.\n",
      "  df = pd.read_csv(file_path)\n",
      "Reading CSV files:  36%|████▍       | 297/814 [03:07<04:51,  1.77it/s]/tmp/ipykernel_13691/1791842788.py:12: DtypeWarning: Columns (3,4) have mixed types. Specify dtype option on import or set low_memory=False.\n",
      "  df = pd.read_csv(file_path)\n",
      "Reading CSV files:  37%|████▍       | 299/814 [03:09<06:34,  1.31it/s]/tmp/ipykernel_13691/1791842788.py:12: DtypeWarning: Columns (3,4) have mixed types. Specify dtype option on import or set low_memory=False.\n",
      "  df = pd.read_csv(file_path)\n",
      "Reading CSV files:  37%|████▍       | 303/814 [03:11<05:26,  1.57it/s]/tmp/ipykernel_13691/1791842788.py:12: DtypeWarning: Columns (3,4) have mixed types. Specify dtype option on import or set low_memory=False.\n",
      "  df = pd.read_csv(file_path)\n",
      "Reading CSV files:  37%|████▍       | 305/814 [03:12<05:00,  1.70it/s]/tmp/ipykernel_13691/1791842788.py:12: DtypeWarning: Columns (3,4) have mixed types. Specify dtype option on import or set low_memory=False.\n",
      "  df = pd.read_csv(file_path)\n",
      "Reading CSV files:  38%|████▌       | 306/814 [03:13<04:43,  1.79it/s]/tmp/ipykernel_13691/1791842788.py:12: DtypeWarning: Columns (3,4) have mixed types. Specify dtype option on import or set low_memory=False.\n",
      "  df = pd.read_csv(file_path)\n",
      "Reading CSV files:  38%|████▌       | 309/814 [03:15<06:43,  1.25it/s]/tmp/ipykernel_13691/1791842788.py:12: DtypeWarning: Columns (3,4) have mixed types. Specify dtype option on import or set low_memory=False.\n",
      "  df = pd.read_csv(file_path)\n",
      "Reading CSV files:  38%|████▌       | 310/814 [03:16<06:14,  1.35it/s]/tmp/ipykernel_13691/1791842788.py:12: DtypeWarning: Columns (3,4) have mixed types. Specify dtype option on import or set low_memory=False.\n",
      "  df = pd.read_csv(file_path)\n",
      "Reading CSV files:  38%|████▌       | 312/814 [03:17<05:09,  1.62it/s]/tmp/ipykernel_13691/1791842788.py:12: DtypeWarning: Columns (3,4) have mixed types. Specify dtype option on import or set low_memory=False.\n",
      "  df = pd.read_csv(file_path)\n",
      "Reading CSV files:  38%|████▌       | 313/814 [03:17<04:59,  1.67it/s]/tmp/ipykernel_13691/1791842788.py:12: DtypeWarning: Columns (3,4) have mixed types. Specify dtype option on import or set low_memory=False.\n",
      "  df = pd.read_csv(file_path)\n",
      "Reading CSV files:  40%|████▊       | 326/814 [03:26<06:23,  1.27it/s]/tmp/ipykernel_13691/1791842788.py:12: DtypeWarning: Columns (3,4) have mixed types. Specify dtype option on import or set low_memory=False.\n",
      "  df = pd.read_csv(file_path)\n"
     ]
    },
    {
     "name": "stderr",
     "output_type": "stream",
     "text": [
      "Reading CSV files:  40%|████▊       | 328/814 [03:27<05:21,  1.51it/s]/tmp/ipykernel_13691/1791842788.py:12: DtypeWarning: Columns (3,4) have mixed types. Specify dtype option on import or set low_memory=False.\n",
      "  df = pd.read_csv(file_path)\n",
      "Reading CSV files:  41%|████▊       | 330/814 [03:28<04:44,  1.70it/s]/tmp/ipykernel_13691/1791842788.py:12: DtypeWarning: Columns (3,4) have mixed types. Specify dtype option on import or set low_memory=False.\n",
      "  df = pd.read_csv(file_path)\n",
      "Reading CSV files:  41%|████▉       | 331/814 [03:28<04:32,  1.77it/s]/tmp/ipykernel_13691/1791842788.py:12: DtypeWarning: Columns (3,4) have mixed types. Specify dtype option on import or set low_memory=False.\n",
      "  df = pd.read_csv(file_path)\n",
      "Reading CSV files:  41%|████▉       | 332/814 [03:29<04:27,  1.80it/s]/tmp/ipykernel_13691/1791842788.py:12: DtypeWarning: Columns (3,4) have mixed types. Specify dtype option on import or set low_memory=False.\n",
      "  df = pd.read_csv(file_path)\n",
      "Reading CSV files:  41%|████▉       | 333/814 [03:30<04:28,  1.79it/s]/tmp/ipykernel_13691/1791842788.py:12: DtypeWarning: Columns (3,4) have mixed types. Specify dtype option on import or set low_memory=False.\n",
      "  df = pd.read_csv(file_path)\n",
      "Reading CSV files:  41%|████▉       | 335/814 [03:31<05:40,  1.41it/s]/tmp/ipykernel_13691/1791842788.py:12: DtypeWarning: Columns (3,4) have mixed types. Specify dtype option on import or set low_memory=False.\n",
      "  df = pd.read_csv(file_path)\n",
      "Reading CSV files:  41%|████▉       | 336/814 [03:32<05:28,  1.46it/s]/tmp/ipykernel_13691/1791842788.py:12: DtypeWarning: Columns (3,4) have mixed types. Specify dtype option on import or set low_memory=False.\n",
      "  df = pd.read_csv(file_path)\n",
      "Reading CSV files:  42%|████▉       | 338/814 [03:33<04:42,  1.69it/s]/tmp/ipykernel_13691/1791842788.py:12: DtypeWarning: Columns (3,4) have mixed types. Specify dtype option on import or set low_memory=False.\n",
      "  df = pd.read_csv(file_path)\n",
      "Reading CSV files:  42%|████▉       | 339/814 [03:34<04:30,  1.75it/s]/tmp/ipykernel_13691/1791842788.py:12: DtypeWarning: Columns (3,4) have mixed types. Specify dtype option on import or set low_memory=False.\n",
      "  df = pd.read_csv(file_path)\n",
      "Reading CSV files:  42%|█████       | 341/814 [03:35<04:10,  1.89it/s]/tmp/ipykernel_13691/1791842788.py:12: DtypeWarning: Columns (3,4) have mixed types. Specify dtype option on import or set low_memory=False.\n",
      "  df = pd.read_csv(file_path)\n",
      "Reading CSV files:  43%|█████▏      | 349/814 [03:39<03:52,  2.00it/s]/tmp/ipykernel_13691/1791842788.py:12: DtypeWarning: Columns (3,4) have mixed types. Specify dtype option on import or set low_memory=False.\n",
      "  df = pd.read_csv(file_path)\n",
      "Reading CSV files:  43%|█████▏      | 351/814 [03:40<03:54,  1.98it/s]/tmp/ipykernel_13691/1791842788.py:12: DtypeWarning: Columns (3,4) have mixed types. Specify dtype option on import or set low_memory=False.\n",
      "  df = pd.read_csv(file_path)\n",
      "Reading CSV files:  43%|█████▏      | 352/814 [03:41<03:34,  2.15it/s]/tmp/ipykernel_13691/1791842788.py:12: DtypeWarning: Columns (3,4) have mixed types. Specify dtype option on import or set low_memory=False.\n",
      "  df = pd.read_csv(file_path)\n",
      "Reading CSV files:  43%|█████▏      | 354/814 [03:42<04:55,  1.56it/s]/tmp/ipykernel_13691/1791842788.py:12: DtypeWarning: Columns (3,4) have mixed types. Specify dtype option on import or set low_memory=False.\n",
      "  df = pd.read_csv(file_path)\n",
      "Reading CSV files:  44%|█████▏      | 356/814 [03:44<04:22,  1.75it/s]/tmp/ipykernel_13691/1791842788.py:12: DtypeWarning: Columns (3,4) have mixed types. Specify dtype option on import or set low_memory=False.\n",
      "  df = pd.read_csv(file_path)\n",
      "Reading CSV files:  45%|█████▎      | 363/814 [03:48<04:41,  1.60it/s]/tmp/ipykernel_13691/1791842788.py:12: DtypeWarning: Columns (3,4) have mixed types. Specify dtype option on import or set low_memory=False.\n",
      "  df = pd.read_csv(file_path)\n",
      "Reading CSV files:  45%|█████▍      | 369/814 [03:51<03:39,  2.02it/s]/tmp/ipykernel_13691/1791842788.py:12: DtypeWarning: Columns (3,4) have mixed types. Specify dtype option on import or set low_memory=False.\n",
      "  df = pd.read_csv(file_path)\n",
      "Reading CSV files:  45%|█████▍      | 370/814 [03:52<05:27,  1.35it/s]/tmp/ipykernel_13691/1791842788.py:12: DtypeWarning: Columns (3,4) have mixed types. Specify dtype option on import or set low_memory=False.\n",
      "  df = pd.read_csv(file_path)\n",
      "Reading CSV files:  46%|█████▌      | 374/814 [03:54<03:52,  1.90it/s]/tmp/ipykernel_13691/1791842788.py:12: DtypeWarning: Columns (3,4) have mixed types. Specify dtype option on import or set low_memory=False.\n",
      "  df = pd.read_csv(file_path)\n",
      "Reading CSV files:  47%|█████▌      | 379/814 [03:56<03:21,  2.16it/s]/tmp/ipykernel_13691/1791842788.py:12: DtypeWarning: Columns (3,4) have mixed types. Specify dtype option on import or set low_memory=False.\n",
      "  df = pd.read_csv(file_path)\n",
      "Reading CSV files:  47%|█████▌      | 381/814 [03:58<05:08,  1.40it/s]/tmp/ipykernel_13691/1791842788.py:12: DtypeWarning: Columns (3,4) have mixed types. Specify dtype option on import or set low_memory=False.\n",
      "  df = pd.read_csv(file_path)\n",
      "Reading CSV files:  47%|█████▋      | 382/814 [03:58<04:37,  1.56it/s]/tmp/ipykernel_13691/1791842788.py:12: DtypeWarning: Columns (3,4) have mixed types. Specify dtype option on import or set low_memory=False.\n",
      "  df = pd.read_csv(file_path)\n",
      "Reading CSV files:  47%|█████▋      | 383/814 [03:59<04:27,  1.61it/s]/tmp/ipykernel_13691/1791842788.py:12: DtypeWarning: Columns (3,4) have mixed types. Specify dtype option on import or set low_memory=False.\n",
      "  df = pd.read_csv(file_path)\n",
      "Reading CSV files:  47%|█████▋      | 384/814 [03:59<04:04,  1.76it/s]/tmp/ipykernel_13691/1791842788.py:12: DtypeWarning: Columns (3,4) have mixed types. Specify dtype option on import or set low_memory=False.\n",
      "  df = pd.read_csv(file_path)\n",
      "Reading CSV files:  47%|█████▋      | 385/814 [04:00<03:48,  1.88it/s]/tmp/ipykernel_13691/1791842788.py:12: DtypeWarning: Columns (3,4) have mixed types. Specify dtype option on import or set low_memory=False.\n",
      "  df = pd.read_csv(file_path)\n",
      "Reading CSV files:  48%|█████▋      | 388/814 [04:01<03:20,  2.12it/s]/tmp/ipykernel_13691/1791842788.py:12: DtypeWarning: Columns (3,4) have mixed types. Specify dtype option on import or set low_memory=False.\n",
      "  df = pd.read_csv(file_path)\n",
      "Reading CSV files:  48%|█████▋      | 389/814 [04:02<03:13,  2.19it/s]/tmp/ipykernel_13691/1791842788.py:12: DtypeWarning: Columns (3,4) have mixed types. Specify dtype option on import or set low_memory=False.\n",
      "  df = pd.read_csv(file_path)\n",
      "Reading CSV files:  48%|█████▋      | 390/814 [04:03<04:51,  1.46it/s]/tmp/ipykernel_13691/1791842788.py:12: DtypeWarning: Columns (3,4) have mixed types. Specify dtype option on import or set low_memory=False.\n",
      "  df = pd.read_csv(file_path)\n",
      "Reading CSV files:  48%|█████▊      | 392/814 [04:04<04:00,  1.75it/s]/tmp/ipykernel_13691/1791842788.py:12: DtypeWarning: Columns (3,4) have mixed types. Specify dtype option on import or set low_memory=False.\n",
      "  df = pd.read_csv(file_path)\n",
      "Reading CSV files:  48%|█████▊      | 393/814 [04:04<03:48,  1.85it/s]/tmp/ipykernel_13691/1791842788.py:12: DtypeWarning: Columns (3,4) have mixed types. Specify dtype option on import or set low_memory=False.\n",
      "  df = pd.read_csv(file_path)\n",
      "Reading CSV files:  49%|█████▊      | 396/814 [04:06<03:17,  2.11it/s]/tmp/ipykernel_13691/1791842788.py:12: DtypeWarning: Columns (3,4) have mixed types. Specify dtype option on import or set low_memory=False.\n",
      "  df = pd.read_csv(file_path)\n",
      "Reading CSV files:  49%|█████▊      | 397/814 [04:06<03:19,  2.09it/s]/tmp/ipykernel_13691/1791842788.py:12: DtypeWarning: Columns (3,4) have mixed types. Specify dtype option on import or set low_memory=False.\n",
      "  df = pd.read_csv(file_path)\n",
      "Reading CSV files:  50%|█████▉      | 406/814 [04:12<04:11,  1.62it/s]/tmp/ipykernel_13691/1791842788.py:12: DtypeWarning: Columns (3,4) have mixed types. Specify dtype option on import or set low_memory=False.\n",
      "  df = pd.read_csv(file_path)\n",
      "Reading CSV files:  50%|██████      | 410/814 [04:15<04:50,  1.39it/s]/tmp/ipykernel_13691/1791842788.py:12: DtypeWarning: Columns (3,4) have mixed types. Specify dtype option on import or set low_memory=False.\n",
      "  df = pd.read_csv(file_path)\n"
     ]
    },
    {
     "name": "stderr",
     "output_type": "stream",
     "text": [
      "Reading CSV files:  51%|██████      | 412/814 [04:16<04:25,  1.52it/s]/tmp/ipykernel_13691/1791842788.py:12: DtypeWarning: Columns (3,4) have mixed types. Specify dtype option on import or set low_memory=False.\n",
      "  df = pd.read_csv(file_path)\n",
      "Reading CSV files:  51%|██████      | 414/814 [04:17<04:03,  1.64it/s]/tmp/ipykernel_13691/1791842788.py:12: DtypeWarning: Columns (3,4) have mixed types. Specify dtype option on import or set low_memory=False.\n",
      "  df = pd.read_csv(file_path)\n",
      "Reading CSV files:  51%|██████      | 415/814 [04:18<04:23,  1.52it/s]/tmp/ipykernel_13691/1791842788.py:12: DtypeWarning: Columns (3,4) have mixed types. Specify dtype option on import or set low_memory=False.\n",
      "  df = pd.read_csv(file_path)\n",
      "Reading CSV files:  52%|██████▏     | 420/814 [04:22<04:07,  1.59it/s]/tmp/ipykernel_13691/1791842788.py:12: DtypeWarning: Columns (3,4) have mixed types. Specify dtype option on import or set low_memory=False.\n",
      "  df = pd.read_csv(file_path)\n",
      "Reading CSV files:  52%|██████▏     | 421/814 [04:22<03:58,  1.65it/s]/tmp/ipykernel_13691/1791842788.py:12: DtypeWarning: Columns (3,4) have mixed types. Specify dtype option on import or set low_memory=False.\n",
      "  df = pd.read_csv(file_path)\n",
      "Reading CSV files:  52%|██████▏     | 422/814 [04:23<03:51,  1.69it/s]/tmp/ipykernel_13691/1791842788.py:12: DtypeWarning: Columns (3,4) have mixed types. Specify dtype option on import or set low_memory=False.\n",
      "  df = pd.read_csv(file_path)\n",
      "Reading CSV files:  52%|██████▎     | 425/814 [04:25<05:13,  1.24it/s]/tmp/ipykernel_13691/1791842788.py:12: DtypeWarning: Columns (3,4) have mixed types. Specify dtype option on import or set low_memory=False.\n",
      "  df = pd.read_csv(file_path)\n",
      "Reading CSV files:  53%|██████▎     | 430/814 [04:28<03:36,  1.77it/s]/tmp/ipykernel_13691/1791842788.py:12: DtypeWarning: Columns (3,4) have mixed types. Specify dtype option on import or set low_memory=False.\n",
      "  df = pd.read_csv(file_path)\n",
      "Reading CSV files:  54%|██████▍     | 438/814 [04:33<03:50,  1.63it/s]/tmp/ipykernel_13691/1791842788.py:12: DtypeWarning: Columns (3,4) have mixed types. Specify dtype option on import or set low_memory=False.\n",
      "  df = pd.read_csv(file_path)\n",
      "Reading CSV files:  54%|██████▍     | 439/814 [04:33<03:46,  1.65it/s]/tmp/ipykernel_13691/1791842788.py:12: DtypeWarning: Columns (3,4) have mixed types. Specify dtype option on import or set low_memory=False.\n",
      "  df = pd.read_csv(file_path)\n",
      "Reading CSV files:  56%|██████▋     | 454/814 [04:43<03:21,  1.79it/s]/tmp/ipykernel_13691/1791842788.py:12: DtypeWarning: Columns (3,4) have mixed types. Specify dtype option on import or set low_memory=False.\n",
      "  df = pd.read_csv(file_path)\n",
      "Reading CSV files:  56%|██████▊     | 458/814 [04:45<02:54,  2.04it/s]/tmp/ipykernel_13691/1791842788.py:12: DtypeWarning: Columns (3,4) have mixed types. Specify dtype option on import or set low_memory=False.\n",
      "  df = pd.read_csv(file_path)\n",
      "Reading CSV files:  57%|██████▊     | 464/814 [04:49<03:24,  1.71it/s]/tmp/ipykernel_13691/1791842788.py:12: DtypeWarning: Columns (3,4) have mixed types. Specify dtype option on import or set low_memory=False.\n",
      "  df = pd.read_csv(file_path)\n",
      "Reading CSV files:  57%|██████▉     | 468/814 [04:50<02:48,  2.06it/s]/tmp/ipykernel_13691/1791842788.py:12: DtypeWarning: Columns (3,4) have mixed types. Specify dtype option on import or set low_memory=False.\n",
      "  df = pd.read_csv(file_path)\n",
      "Reading CSV files:  58%|██████▉     | 471/814 [04:52<02:44,  2.08it/s]/tmp/ipykernel_13691/1791842788.py:12: DtypeWarning: Columns (3,4) have mixed types. Specify dtype option on import or set low_memory=False.\n",
      "  df = pd.read_csv(file_path)\n",
      "Reading CSV files:  58%|██████▉     | 474/814 [04:54<03:25,  1.65it/s]/tmp/ipykernel_13691/1791842788.py:12: DtypeWarning: Columns (3,4) have mixed types. Specify dtype option on import or set low_memory=False.\n",
      "  df = pd.read_csv(file_path)\n",
      "Reading CSV files:  58%|███████     | 475/814 [04:55<03:17,  1.72it/s]/tmp/ipykernel_13691/1791842788.py:12: DtypeWarning: Columns (3,4) have mixed types. Specify dtype option on import or set low_memory=False.\n",
      "  df = pd.read_csv(file_path)\n",
      "Reading CSV files:  59%|███████     | 480/814 [04:58<03:44,  1.49it/s]/tmp/ipykernel_13691/1791842788.py:12: DtypeWarning: Columns (3,4) have mixed types. Specify dtype option on import or set low_memory=False.\n",
      "  df = pd.read_csv(file_path)\n",
      "Reading CSV files:  59%|███████     | 481/814 [04:59<03:22,  1.65it/s]/tmp/ipykernel_13691/1791842788.py:12: DtypeWarning: Columns (3,4) have mixed types. Specify dtype option on import or set low_memory=False.\n",
      "  df = pd.read_csv(file_path)\n",
      "Reading CSV files:  59%|███████     | 482/814 [04:59<03:10,  1.74it/s]/tmp/ipykernel_13691/1791842788.py:12: DtypeWarning: Columns (3,4) have mixed types. Specify dtype option on import or set low_memory=False.\n",
      "  df = pd.read_csv(file_path)\n",
      "Reading CSV files:  59%|███████     | 483/814 [05:00<03:00,  1.83it/s]/tmp/ipykernel_13691/1791842788.py:12: DtypeWarning: Columns (3,4) have mixed types. Specify dtype option on import or set low_memory=False.\n",
      "  df = pd.read_csv(file_path)\n",
      "Reading CSV files:  60%|███████▏    | 486/814 [05:01<02:38,  2.07it/s]/tmp/ipykernel_13691/1791842788.py:12: DtypeWarning: Columns (3,4) have mixed types. Specify dtype option on import or set low_memory=False.\n",
      "  df = pd.read_csv(file_path)\n",
      "Reading CSV files:  60%|███████▏    | 487/814 [05:01<02:39,  2.05it/s]/tmp/ipykernel_13691/1791842788.py:12: DtypeWarning: Columns (3,4) have mixed types. Specify dtype option on import or set low_memory=False.\n",
      "  df = pd.read_csv(file_path)\n",
      "Reading CSV files:  60%|███████▏    | 488/814 [05:03<04:08,  1.31it/s]/tmp/ipykernel_13691/1791842788.py:12: DtypeWarning: Columns (3,4) have mixed types. Specify dtype option on import or set low_memory=False.\n",
      "  df = pd.read_csv(file_path)\n",
      "Reading CSV files:  60%|███████▏    | 489/814 [05:04<04:12,  1.29it/s]/tmp/ipykernel_13691/1791842788.py:12: DtypeWarning: Columns (3,4) have mixed types. Specify dtype option on import or set low_memory=False.\n",
      "  df = pd.read_csv(file_path)\n",
      "Reading CSV files:  60%|███████▏    | 490/814 [05:04<03:43,  1.45it/s]/tmp/ipykernel_13691/1791842788.py:12: DtypeWarning: Columns (3,4) have mixed types. Specify dtype option on import or set low_memory=False.\n",
      "  df = pd.read_csv(file_path)\n",
      "Reading CSV files:  60%|███████▎    | 492/814 [05:05<03:04,  1.74it/s]/tmp/ipykernel_13691/1791842788.py:12: DtypeWarning: Columns (3,4) have mixed types. Specify dtype option on import or set low_memory=False.\n",
      "  df = pd.read_csv(file_path)\n",
      "Reading CSV files:  61%|███████▎    | 494/814 [05:06<02:43,  1.95it/s]/tmp/ipykernel_13691/1791842788.py:12: DtypeWarning: Columns (3,4) have mixed types. Specify dtype option on import or set low_memory=False.\n",
      "  df = pd.read_csv(file_path)\n",
      "Reading CSV files:  61%|███████▎    | 495/814 [05:06<02:39,  2.00it/s]/tmp/ipykernel_13691/1791842788.py:12: DtypeWarning: Columns (3,4) have mixed types. Specify dtype option on import or set low_memory=False.\n",
      "  df = pd.read_csv(file_path)\n",
      "Reading CSV files:  62%|███████▍    | 501/814 [05:10<02:53,  1.80it/s]/tmp/ipykernel_13691/1791842788.py:12: DtypeWarning: Columns (3,4) have mixed types. Specify dtype option on import or set low_memory=False.\n",
      "  df = pd.read_csv(file_path)\n",
      "Reading CSV files:  62%|███████▍    | 502/814 [05:11<03:02,  1.71it/s]/tmp/ipykernel_13691/1791842788.py:12: DtypeWarning: Columns (3,4) have mixed types. Specify dtype option on import or set low_memory=False.\n",
      "  df = pd.read_csv(file_path)\n",
      "Reading CSV files:  62%|███████▍    | 503/814 [05:11<02:58,  1.75it/s]/tmp/ipykernel_13691/1791842788.py:12: DtypeWarning: Columns (3,4) have mixed types. Specify dtype option on import or set low_memory=False.\n",
      "  df = pd.read_csv(file_path)\n",
      "Reading CSV files:  62%|███████▍    | 505/814 [05:13<03:44,  1.38it/s]/tmp/ipykernel_13691/1791842788.py:12: DtypeWarning: Columns (3,4) have mixed types. Specify dtype option on import or set low_memory=False.\n",
      "  df = pd.read_csv(file_path)\n",
      "Reading CSV files:  62%|███████▍    | 508/814 [05:15<03:23,  1.51it/s]/tmp/ipykernel_13691/1791842788.py:12: DtypeWarning: Columns (3,4) have mixed types. Specify dtype option on import or set low_memory=False.\n",
      "  df = pd.read_csv(file_path)\n"
     ]
    },
    {
     "name": "stderr",
     "output_type": "stream",
     "text": [
      "Reading CSV files:  63%|███████▌    | 509/814 [05:16<03:12,  1.58it/s]/tmp/ipykernel_13691/1791842788.py:12: DtypeWarning: Columns (3,4) have mixed types. Specify dtype option on import or set low_memory=False.\n",
      "  df = pd.read_csv(file_path)\n",
      "Reading CSV files:  63%|███████▌    | 510/814 [05:16<03:03,  1.65it/s]/tmp/ipykernel_13691/1791842788.py:12: DtypeWarning: Columns (3,4) have mixed types. Specify dtype option on import or set low_memory=False.\n",
      "  df = pd.read_csv(file_path)\n",
      "Reading CSV files:  63%|███████▌    | 512/814 [05:17<02:51,  1.76it/s]/tmp/ipykernel_13691/1791842788.py:12: DtypeWarning: Columns (3,4) have mixed types. Specify dtype option on import or set low_memory=False.\n",
      "  df = pd.read_csv(file_path)\n",
      "Reading CSV files:  63%|███████▌    | 513/814 [05:19<04:07,  1.22it/s]/tmp/ipykernel_13691/1791842788.py:12: DtypeWarning: Columns (3,4) have mixed types. Specify dtype option on import or set low_memory=False.\n",
      "  df = pd.read_csv(file_path)\n",
      "Reading CSV files:  63%|███████▌    | 515/814 [05:20<03:38,  1.37it/s]/tmp/ipykernel_13691/1791842788.py:12: DtypeWarning: Columns (3,4) have mixed types. Specify dtype option on import or set low_memory=False.\n",
      "  df = pd.read_csv(file_path)\n",
      "Reading CSV files:  63%|███████▌    | 516/814 [05:21<03:23,  1.47it/s]/tmp/ipykernel_13691/1791842788.py:12: DtypeWarning: Columns (3,4) have mixed types. Specify dtype option on import or set low_memory=False.\n",
      "  df = pd.read_csv(file_path)\n",
      "Reading CSV files:  64%|███████▌    | 517/814 [05:21<03:09,  1.57it/s]/tmp/ipykernel_13691/1791842788.py:12: DtypeWarning: Columns (3,4) have mixed types. Specify dtype option on import or set low_memory=False.\n",
      "  df = pd.read_csv(file_path)\n",
      "Reading CSV files:  64%|███████▋    | 518/814 [05:22<03:06,  1.58it/s]/tmp/ipykernel_13691/1791842788.py:12: DtypeWarning: Columns (3,4) have mixed types. Specify dtype option on import or set low_memory=False.\n",
      "  df = pd.read_csv(file_path)\n",
      "Reading CSV files:  64%|███████▋    | 520/814 [05:24<04:13,  1.16it/s]/tmp/ipykernel_13691/1791842788.py:12: DtypeWarning: Columns (3,4) have mixed types. Specify dtype option on import or set low_memory=False.\n",
      "  df = pd.read_csv(file_path)\n",
      "Reading CSV files:  64%|███████▋    | 521/814 [05:24<03:48,  1.28it/s]/tmp/ipykernel_13691/1791842788.py:12: DtypeWarning: Columns (3,4) have mixed types. Specify dtype option on import or set low_memory=False.\n",
      "  df = pd.read_csv(file_path)\n",
      "Reading CSV files:  65%|███████▊    | 527/814 [05:28<02:44,  1.74it/s]/tmp/ipykernel_13691/1791842788.py:12: DtypeWarning: Columns (3,4) have mixed types. Specify dtype option on import or set low_memory=False.\n",
      "  df = pd.read_csv(file_path)\n",
      "Reading CSV files:  65%|███████▊    | 529/814 [05:30<03:36,  1.32it/s]/tmp/ipykernel_13691/1791842788.py:12: DtypeWarning: Columns (3,4) have mixed types. Specify dtype option on import or set low_memory=False.\n",
      "  df = pd.read_csv(file_path)\n",
      "Reading CSV files:  65%|███████▊    | 532/814 [05:31<03:01,  1.55it/s]/tmp/ipykernel_13691/1791842788.py:12: DtypeWarning: Columns (3,4) have mixed types. Specify dtype option on import or set low_memory=False.\n",
      "  df = pd.read_csv(file_path)\n",
      "Reading CSV files:  65%|███████▊    | 533/814 [05:32<02:50,  1.65it/s]/tmp/ipykernel_13691/1791842788.py:12: DtypeWarning: Columns (3,4) have mixed types. Specify dtype option on import or set low_memory=False.\n",
      "  df = pd.read_csv(file_path)\n",
      "Reading CSV files:  66%|███████▉    | 535/814 [05:33<02:39,  1.75it/s]/tmp/ipykernel_13691/1791842788.py:12: DtypeWarning: Columns (3,4) have mixed types. Specify dtype option on import or set low_memory=False.\n",
      "  df = pd.read_csv(file_path)\n",
      "Reading CSV files:  66%|███████▉    | 536/814 [05:34<02:36,  1.78it/s]/tmp/ipykernel_13691/1791842788.py:12: DtypeWarning: Columns (3,4) have mixed types. Specify dtype option on import or set low_memory=False.\n",
      "  df = pd.read_csv(file_path)\n",
      "Reading CSV files:  66%|███████▉    | 539/814 [05:36<03:13,  1.42it/s]/tmp/ipykernel_13691/1791842788.py:12: DtypeWarning: Columns (3,4) have mixed types. Specify dtype option on import or set low_memory=False.\n",
      "  df = pd.read_csv(file_path)\n",
      "Reading CSV files:  66%|███████▉    | 541/814 [05:37<02:49,  1.61it/s]/tmp/ipykernel_13691/1791842788.py:12: DtypeWarning: Columns (3,4) have mixed types. Specify dtype option on import or set low_memory=False.\n",
      "  df = pd.read_csv(file_path)\n",
      "Reading CSV files:  68%|████████    | 551/814 [05:44<02:26,  1.79it/s]/tmp/ipykernel_13691/1791842788.py:12: DtypeWarning: Columns (3,4) have mixed types. Specify dtype option on import or set low_memory=False.\n",
      "  df = pd.read_csv(file_path)\n",
      "Reading CSV files:  68%|████████▏   | 554/814 [05:45<02:20,  1.85it/s]/tmp/ipykernel_13691/1791842788.py:12: DtypeWarning: Columns (3,4) have mixed types. Specify dtype option on import or set low_memory=False.\n",
      "  df = pd.read_csv(file_path)\n",
      "Reading CSV files:  68%|████████▏   | 556/814 [05:47<02:55,  1.47it/s]/tmp/ipykernel_13691/1791842788.py:12: DtypeWarning: Columns (3,4) have mixed types. Specify dtype option on import or set low_memory=False.\n",
      "  df = pd.read_csv(file_path)\n",
      "Reading CSV files:  69%|████████▏   | 559/814 [05:49<02:36,  1.63it/s]/tmp/ipykernel_13691/1791842788.py:12: DtypeWarning: Columns (3,4) have mixed types. Specify dtype option on import or set low_memory=False.\n",
      "  df = pd.read_csv(file_path)\n",
      "Reading CSV files:  69%|████████▎   | 561/814 [05:50<02:23,  1.77it/s]/tmp/ipykernel_13691/1791842788.py:12: DtypeWarning: Columns (3,4) have mixed types. Specify dtype option on import or set low_memory=False.\n",
      "  df = pd.read_csv(file_path)\n",
      "Reading CSV files:  69%|████████▎   | 562/814 [05:50<02:26,  1.72it/s]/tmp/ipykernel_13691/1791842788.py:12: DtypeWarning: Columns (3,4) have mixed types. Specify dtype option on import or set low_memory=False.\n",
      "  df = pd.read_csv(file_path)\n",
      "Reading CSV files:  69%|████████▎   | 564/814 [05:53<03:36,  1.16it/s]/tmp/ipykernel_13691/1791842788.py:12: DtypeWarning: Columns (3,4) have mixed types. Specify dtype option on import or set low_memory=False.\n",
      "  df = pd.read_csv(file_path)\n",
      "Reading CSV files:  71%|████████▍   | 575/814 [06:00<02:47,  1.43it/s]/tmp/ipykernel_13691/1791842788.py:12: DtypeWarning: Columns (3,4) have mixed types. Specify dtype option on import or set low_memory=False.\n",
      "  df = pd.read_csv(file_path)\n",
      "Reading CSV files:  71%|████████▍   | 576/814 [06:01<02:37,  1.52it/s]/tmp/ipykernel_13691/1791842788.py:12: DtypeWarning: Columns (3,4) have mixed types. Specify dtype option on import or set low_memory=False.\n",
      "  df = pd.read_csv(file_path)\n",
      "Reading CSV files:  71%|████████▌   | 579/814 [06:03<02:19,  1.68it/s]/tmp/ipykernel_13691/1791842788.py:12: DtypeWarning: Columns (3,4) have mixed types. Specify dtype option on import or set low_memory=False.\n",
      "  df = pd.read_csv(file_path)\n",
      "Reading CSV files:  71%|████████▌   | 580/814 [06:03<02:15,  1.73it/s]/tmp/ipykernel_13691/1791842788.py:12: DtypeWarning: Columns (3,4) have mixed types. Specify dtype option on import or set low_memory=False.\n",
      "  df = pd.read_csv(file_path)\n",
      "Reading CSV files:  71%|████████▌   | 581/814 [06:04<02:11,  1.77it/s]/tmp/ipykernel_13691/1791842788.py:12: DtypeWarning: Columns (3,4) have mixed types. Specify dtype option on import or set low_memory=False.\n",
      "  df = pd.read_csv(file_path)\n",
      "Reading CSV files:  71%|████████▌   | 582/814 [06:05<03:16,  1.18it/s]/tmp/ipykernel_13691/1791842788.py:12: DtypeWarning: Columns (3,4) have mixed types. Specify dtype option on import or set low_memory=False.\n",
      "  df = pd.read_csv(file_path)\n",
      "Reading CSV files:  72%|████████▌   | 584/814 [06:06<02:41,  1.43it/s]/tmp/ipykernel_13691/1791842788.py:12: DtypeWarning: Columns (3,4) have mixed types. Specify dtype option on import or set low_memory=False.\n",
      "  df = pd.read_csv(file_path)\n",
      "Reading CSV files:  72%|████████▋   | 589/814 [06:09<02:12,  1.69it/s]/tmp/ipykernel_13691/1791842788.py:12: DtypeWarning: Columns (3,4) have mixed types. Specify dtype option on import or set low_memory=False.\n",
      "  df = pd.read_csv(file_path)\n",
      "Reading CSV files:  73%|████████▋   | 593/814 [06:13<02:40,  1.38it/s]/tmp/ipykernel_13691/1791842788.py:12: DtypeWarning: Columns (3,4) have mixed types. Specify dtype option on import or set low_memory=False.\n",
      "  df = pd.read_csv(file_path)\n"
     ]
    },
    {
     "name": "stderr",
     "output_type": "stream",
     "text": [
      "Reading CSV files:  73%|████████▊   | 595/814 [06:14<02:23,  1.52it/s]/tmp/ipykernel_13691/1791842788.py:12: DtypeWarning: Columns (3,4) have mixed types. Specify dtype option on import or set low_memory=False.\n",
      "  df = pd.read_csv(file_path)\n",
      "Reading CSV files:  73%|████████▊   | 596/814 [06:14<02:14,  1.62it/s]/tmp/ipykernel_13691/1791842788.py:12: DtypeWarning: Columns (3,4) have mixed types. Specify dtype option on import or set low_memory=False.\n",
      "  df = pd.read_csv(file_path)\n",
      "Reading CSV files:  73%|████████▊   | 598/814 [06:17<03:48,  1.06s/it]/tmp/ipykernel_13691/1791842788.py:12: DtypeWarning: Columns (3,4) have mixed types. Specify dtype option on import or set low_memory=False.\n",
      "  df = pd.read_csv(file_path)\n",
      "Reading CSV files:  74%|████████▊   | 599/814 [06:17<03:13,  1.11it/s]/tmp/ipykernel_13691/1791842788.py:12: DtypeWarning: Columns (3,4) have mixed types. Specify dtype option on import or set low_memory=False.\n",
      "  df = pd.read_csv(file_path)\n",
      "Reading CSV files:  74%|████████▊   | 602/814 [06:19<02:32,  1.39it/s]/tmp/ipykernel_13691/1791842788.py:12: DtypeWarning: Columns (3,4) have mixed types. Specify dtype option on import or set low_memory=False.\n",
      "  df = pd.read_csv(file_path)\n",
      "Reading CSV files:  74%|████████▉   | 606/814 [06:23<02:31,  1.37it/s]/tmp/ipykernel_13691/1791842788.py:12: DtypeWarning: Columns (3,4) have mixed types. Specify dtype option on import or set low_memory=False.\n",
      "  df = pd.read_csv(file_path)\n",
      "Reading CSV files:  75%|████████▉   | 607/814 [06:23<02:21,  1.46it/s]/tmp/ipykernel_13691/1791842788.py:12: DtypeWarning: Columns (3,4) have mixed types. Specify dtype option on import or set low_memory=False.\n",
      "  df = pd.read_csv(file_path)\n",
      "Reading CSV files:  75%|████████▉   | 608/814 [06:24<02:17,  1.49it/s]/tmp/ipykernel_13691/1791842788.py:12: DtypeWarning: Columns (3,4) have mixed types. Specify dtype option on import or set low_memory=False.\n",
      "  df = pd.read_csv(file_path)\n",
      "Reading CSV files:  75%|████████▉   | 609/814 [06:24<02:12,  1.54it/s]/tmp/ipykernel_13691/1791842788.py:12: DtypeWarning: Columns (3,4) have mixed types. Specify dtype option on import or set low_memory=False.\n",
      "  df = pd.read_csv(file_path)\n",
      "Reading CSV files:  75%|█████████   | 611/814 [06:26<02:36,  1.29it/s]/tmp/ipykernel_13691/1791842788.py:12: DtypeWarning: Columns (3,4) have mixed types. Specify dtype option on import or set low_memory=False.\n",
      "  df = pd.read_csv(file_path)\n",
      "Reading CSV files:  75%|█████████   | 612/814 [06:27<02:26,  1.38it/s]/tmp/ipykernel_13691/1791842788.py:12: DtypeWarning: Columns (3,4) have mixed types. Specify dtype option on import or set low_memory=False.\n",
      "  df = pd.read_csv(file_path)\n",
      "Reading CSV files:  75%|█████████   | 613/814 [06:28<02:18,  1.46it/s]/tmp/ipykernel_13691/1791842788.py:12: DtypeWarning: Columns (3,4) have mixed types. Specify dtype option on import or set low_memory=False.\n",
      "  df = pd.read_csv(file_path)\n",
      "Reading CSV files:  75%|█████████   | 614/814 [06:28<02:11,  1.52it/s]/tmp/ipykernel_13691/1791842788.py:12: DtypeWarning: Columns (3,4) have mixed types. Specify dtype option on import or set low_memory=False.\n",
      "  df = pd.read_csv(file_path)\n",
      "Reading CSV files:  76%|█████████▏  | 619/814 [06:32<02:30,  1.30it/s]/tmp/ipykernel_13691/1791842788.py:12: DtypeWarning: Columns (3,4) have mixed types. Specify dtype option on import or set low_memory=False.\n",
      "  df = pd.read_csv(file_path)\n",
      "Reading CSV files:  76%|█████████▏  | 621/814 [06:33<02:14,  1.44it/s]/tmp/ipykernel_13691/1791842788.py:12: DtypeWarning: Columns (3,4) have mixed types. Specify dtype option on import or set low_memory=False.\n",
      "  df = pd.read_csv(file_path)\n",
      "Reading CSV files:  77%|█████████▏  | 623/814 [06:34<02:00,  1.58it/s]/tmp/ipykernel_13691/1791842788.py:12: DtypeWarning: Columns (3,4) have mixed types. Specify dtype option on import or set low_memory=False.\n",
      "  df = pd.read_csv(file_path)\n",
      "Reading CSV files:  77%|█████████▏  | 626/814 [06:36<01:51,  1.69it/s]/tmp/ipykernel_13691/1791842788.py:12: DtypeWarning: Columns (3,4) have mixed types. Specify dtype option on import or set low_memory=False.\n",
      "  df = pd.read_csv(file_path)\n",
      "Reading CSV files:  77%|█████████▎  | 630/814 [06:39<02:02,  1.50it/s]/tmp/ipykernel_13691/1791842788.py:12: DtypeWarning: Columns (3,4) have mixed types. Specify dtype option on import or set low_memory=False.\n",
      "  df = pd.read_csv(file_path)\n",
      "Reading CSV files:  78%|█████████▎  | 631/814 [06:40<01:56,  1.58it/s]/tmp/ipykernel_13691/1791842788.py:12: DtypeWarning: Columns (3,4) have mixed types. Specify dtype option on import or set low_memory=False.\n",
      "  df = pd.read_csv(file_path)\n",
      "Reading CSV files:  78%|█████████▎  | 632/814 [06:40<01:50,  1.65it/s]/tmp/ipykernel_13691/1791842788.py:12: DtypeWarning: Columns (3,4) have mixed types. Specify dtype option on import or set low_memory=False.\n",
      "  df = pd.read_csv(file_path)\n",
      "Reading CSV files:  78%|█████████▎  | 633/814 [06:41<01:48,  1.67it/s]/tmp/ipykernel_13691/1791842788.py:12: DtypeWarning: Columns (3,4) have mixed types. Specify dtype option on import or set low_memory=False.\n",
      "  df = pd.read_csv(file_path)\n",
      "Reading CSV files:  78%|█████████▎  | 635/814 [06:43<02:12,  1.35it/s]/tmp/ipykernel_13691/1791842788.py:12: DtypeWarning: Columns (3,4) have mixed types. Specify dtype option on import or set low_memory=False.\n",
      "  df = pd.read_csv(file_path)\n",
      "Reading CSV files:  78%|█████████▍  | 636/814 [06:43<02:02,  1.45it/s]/tmp/ipykernel_13691/1791842788.py:12: DtypeWarning: Columns (3,4) have mixed types. Specify dtype option on import or set low_memory=False.\n",
      "  df = pd.read_csv(file_path)\n",
      "Reading CSV files:  78%|█████████▍  | 637/814 [06:44<01:58,  1.49it/s]/tmp/ipykernel_13691/1791842788.py:12: DtypeWarning: Columns (3,4) have mixed types. Specify dtype option on import or set low_memory=False.\n",
      "  df = pd.read_csv(file_path)\n",
      "Reading CSV files:  79%|█████████▍  | 640/814 [06:45<01:39,  1.75it/s]/tmp/ipykernel_13691/1791842788.py:12: DtypeWarning: Columns (3,4) have mixed types. Specify dtype option on import or set low_memory=False.\n",
      "  df = pd.read_csv(file_path)\n",
      "Reading CSV files:  79%|█████████▍  | 641/814 [06:46<01:38,  1.76it/s]/tmp/ipykernel_13691/1791842788.py:12: DtypeWarning: Columns (3,4) have mixed types. Specify dtype option on import or set low_memory=False.\n",
      "  df = pd.read_csv(file_path)\n",
      "Reading CSV files:  79%|█████████▍  | 643/814 [06:48<02:15,  1.27it/s]/tmp/ipykernel_13691/1791842788.py:12: DtypeWarning: Columns (3,4) have mixed types. Specify dtype option on import or set low_memory=False.\n",
      "  df = pd.read_csv(file_path)\n",
      "Reading CSV files:  79%|█████████▍  | 644/814 [06:48<02:02,  1.38it/s]/tmp/ipykernel_13691/1791842788.py:12: DtypeWarning: Columns (3,4) have mixed types. Specify dtype option on import or set low_memory=False.\n",
      "  df = pd.read_csv(file_path)\n",
      "Reading CSV files:  79%|█████████▌  | 645/814 [06:49<01:55,  1.46it/s]/tmp/ipykernel_13691/1791842788.py:12: DtypeWarning: Columns (3,4) have mixed types. Specify dtype option on import or set low_memory=False.\n",
      "  df = pd.read_csv(file_path)\n",
      "Reading CSV files:  79%|█████████▌  | 647/814 [06:50<01:43,  1.61it/s]/tmp/ipykernel_13691/1791842788.py:12: DtypeWarning: Columns (3,4) have mixed types. Specify dtype option on import or set low_memory=False.\n",
      "  df = pd.read_csv(file_path)\n",
      "Reading CSV files:  80%|█████████▌  | 651/814 [06:52<01:35,  1.70it/s]/tmp/ipykernel_13691/1791842788.py:12: DtypeWarning: Columns (3,4) have mixed types. Specify dtype option on import or set low_memory=False.\n",
      "  df = pd.read_csv(file_path)\n",
      "Reading CSV files:  80%|█████████▋  | 653/814 [06:55<02:03,  1.30it/s]/tmp/ipykernel_13691/1791842788.py:12: DtypeWarning: Columns (3,4) have mixed types. Specify dtype option on import or set low_memory=False.\n",
      "  df = pd.read_csv(file_path)\n",
      "Reading CSV files:  82%|█████████▊  | 669/814 [07:03<01:14,  1.95it/s]/tmp/ipykernel_13691/1791842788.py:12: DtypeWarning: Columns (3,4) have mixed types. Specify dtype option on import or set low_memory=False.\n",
      "  df = pd.read_csv(file_path)\n",
      "Reading CSV files:  83%|█████████▉  | 673/814 [07:06<01:30,  1.56it/s]/tmp/ipykernel_13691/1791842788.py:12: DtypeWarning: Columns (3,4) have mixed types. Specify dtype option on import or set low_memory=False.\n",
      "  df = pd.read_csv(file_path)\n"
     ]
    },
    {
     "name": "stderr",
     "output_type": "stream",
     "text": [
      "Reading CSV files:  83%|█████████▉  | 676/814 [07:08<01:19,  1.74it/s]/tmp/ipykernel_13691/1791842788.py:12: DtypeWarning: Columns (3,4) have mixed types. Specify dtype option on import or set low_memory=False.\n",
      "  df = pd.read_csv(file_path)\n",
      "Reading CSV files:  83%|█████████▉  | 678/814 [07:09<01:37,  1.39it/s]/tmp/ipykernel_13691/1791842788.py:12: DtypeWarning: Columns (3,4) have mixed types. Specify dtype option on import or set low_memory=False.\n",
      "  df = pd.read_csv(file_path)\n",
      "Reading CSV files:  84%|██████████  | 684/814 [07:14<01:19,  1.63it/s]/tmp/ipykernel_13691/1791842788.py:12: DtypeWarning: Columns (3,4) have mixed types. Specify dtype option on import or set low_memory=False.\n",
      "  df = pd.read_csv(file_path)\n",
      "Reading CSV files:  84%|██████████  | 685/814 [07:15<01:50,  1.17it/s]/tmp/ipykernel_13691/1791842788.py:12: DtypeWarning: Columns (3,4) have mixed types. Specify dtype option on import or set low_memory=False.\n",
      "  df = pd.read_csv(file_path)\n",
      "Reading CSV files:  84%|██████████  | 686/814 [07:16<01:38,  1.30it/s]/tmp/ipykernel_13691/1791842788.py:12: DtypeWarning: Columns (3,4) have mixed types. Specify dtype option on import or set low_memory=False.\n",
      "  df = pd.read_csv(file_path)\n",
      "Reading CSV files:  85%|██████████▏ | 689/814 [07:17<01:19,  1.58it/s]/tmp/ipykernel_13691/1791842788.py:12: DtypeWarning: Columns (3,4) have mixed types. Specify dtype option on import or set low_memory=False.\n",
      "  df = pd.read_csv(file_path)\n",
      "Reading CSV files:  85%|██████████▏ | 691/814 [07:18<01:09,  1.77it/s]/tmp/ipykernel_13691/1791842788.py:12: DtypeWarning: Columns (3,4) have mixed types. Specify dtype option on import or set low_memory=False.\n",
      "  df = pd.read_csv(file_path)\n",
      "Reading CSV files:  85%|██████████▏ | 692/814 [07:19<01:07,  1.80it/s]/tmp/ipykernel_13691/1791842788.py:12: DtypeWarning: Columns (3,4) have mixed types. Specify dtype option on import or set low_memory=False.\n",
      "  df = pd.read_csv(file_path)\n",
      "Reading CSV files:  85%|██████████▏ | 695/814 [07:21<01:20,  1.49it/s]/tmp/ipykernel_13691/1791842788.py:12: DtypeWarning: Columns (3,4) have mixed types. Specify dtype option on import or set low_memory=False.\n",
      "  df = pd.read_csv(file_path)\n",
      "Reading CSV files:  86%|██████████▎ | 696/814 [07:22<01:13,  1.60it/s]/tmp/ipykernel_13691/1791842788.py:12: DtypeWarning: Columns (3,4) have mixed types. Specify dtype option on import or set low_memory=False.\n",
      "  df = pd.read_csv(file_path)\n",
      "Reading CSV files:  86%|██████████▎ | 697/814 [07:22<01:10,  1.67it/s]/tmp/ipykernel_13691/1791842788.py:12: DtypeWarning: Columns (3,4) have mixed types. Specify dtype option on import or set low_memory=False.\n",
      "  df = pd.read_csv(file_path)\n",
      "Reading CSV files:  86%|██████████▎ | 698/814 [07:23<01:04,  1.79it/s]/tmp/ipykernel_13691/1791842788.py:12: DtypeWarning: Columns (3,4) have mixed types. Specify dtype option on import or set low_memory=False.\n",
      "  df = pd.read_csv(file_path)\n",
      "Reading CSV files:  86%|██████████▎ | 699/814 [07:23<01:03,  1.81it/s]/tmp/ipykernel_13691/1791842788.py:12: DtypeWarning: Columns (3,4) have mixed types. Specify dtype option on import or set low_memory=False.\n",
      "  df = pd.read_csv(file_path)\n",
      "Reading CSV files:  87%|██████████▍ | 709/814 [07:30<01:03,  1.67it/s]/tmp/ipykernel_13691/1791842788.py:12: DtypeWarning: Columns (3,4) have mixed types. Specify dtype option on import or set low_memory=False.\n",
      "  df = pd.read_csv(file_path)\n",
      "Reading CSV files:  87%|██████████▍ | 711/814 [07:32<01:20,  1.28it/s]/tmp/ipykernel_13691/1791842788.py:12: DtypeWarning: Columns (3,4) have mixed types. Specify dtype option on import or set low_memory=False.\n",
      "  df = pd.read_csv(file_path)\n",
      "Reading CSV files:  88%|██████████▌ | 713/814 [07:33<01:08,  1.48it/s]/tmp/ipykernel_13691/1791842788.py:12: DtypeWarning: Columns (3,4) have mixed types. Specify dtype option on import or set low_memory=False.\n",
      "  df = pd.read_csv(file_path)\n",
      "Reading CSV files:  88%|██████████▌ | 720/814 [07:38<01:10,  1.33it/s]/tmp/ipykernel_13691/1791842788.py:12: DtypeWarning: Columns (3,4) have mixed types. Specify dtype option on import or set low_memory=False.\n",
      "  df = pd.read_csv(file_path)\n",
      "Reading CSV files:  90%|██████████▋ | 729/814 [07:44<00:53,  1.59it/s]/tmp/ipykernel_13691/1791842788.py:12: DtypeWarning: Columns (3,4) have mixed types. Specify dtype option on import or set low_memory=False.\n",
      "  df = pd.read_csv(file_path)\n",
      "Reading CSV files:  90%|██████████▊ | 730/814 [07:44<00:50,  1.66it/s]/tmp/ipykernel_13691/1791842788.py:12: DtypeWarning: Columns (3,4) have mixed types. Specify dtype option on import or set low_memory=False.\n",
      "  df = pd.read_csv(file_path)\n",
      "Reading CSV files:  90%|██████████▊ | 732/814 [07:45<00:39,  2.06it/s]/tmp/ipykernel_13691/1791842788.py:12: DtypeWarning: Columns (3,4) have mixed types. Specify dtype option on import or set low_memory=False.\n",
      "  df = pd.read_csv(file_path)\n",
      "Reading CSV files:  90%|██████████▊ | 736/814 [07:48<00:51,  1.51it/s]/tmp/ipykernel_13691/1791842788.py:12: DtypeWarning: Columns (3,4) have mixed types. Specify dtype option on import or set low_memory=False.\n",
      "  df = pd.read_csv(file_path)\n",
      "Reading CSV files:  92%|██████████▉ | 745/814 [07:54<00:51,  1.33it/s]/tmp/ipykernel_13691/1791842788.py:12: DtypeWarning: Columns (3,4) have mixed types. Specify dtype option on import or set low_memory=False.\n",
      "  df = pd.read_csv(file_path)\n",
      "Reading CSV files:  92%|███████████ | 748/814 [07:55<00:40,  1.64it/s]/tmp/ipykernel_13691/1791842788.py:12: DtypeWarning: Columns (3,4) have mixed types. Specify dtype option on import or set low_memory=False.\n",
      "  df = pd.read_csv(file_path)\n",
      "Reading CSV files:  92%|███████████ | 750/814 [07:56<00:34,  1.88it/s]/tmp/ipykernel_13691/1791842788.py:12: DtypeWarning: Columns (3,4) have mixed types. Specify dtype option on import or set low_memory=False.\n",
      "  df = pd.read_csv(file_path)\n",
      "Reading CSV files:  92%|███████████ | 752/814 [07:58<00:44,  1.39it/s]/tmp/ipykernel_13691/1791842788.py:12: DtypeWarning: Columns (3,4) have mixed types. Specify dtype option on import or set low_memory=False.\n",
      "  df = pd.read_csv(file_path)\n",
      "Reading CSV files:  94%|███████████▏| 762/814 [08:04<00:28,  1.83it/s]/tmp/ipykernel_13691/1791842788.py:12: DtypeWarning: Columns (3,4) have mixed types. Specify dtype option on import or set low_memory=False.\n",
      "  df = pd.read_csv(file_path)\n",
      "Reading CSV files:  95%|███████████▍| 774/814 [08:11<00:20,  1.92it/s]/tmp/ipykernel_13691/1791842788.py:12: DtypeWarning: Columns (3,4) have mixed types. Specify dtype option on import or set low_memory=False.\n",
      "  df = pd.read_csv(file_path)\n",
      "Reading CSV files:  95%|███████████▍| 775/814 [08:12<00:20,  1.90it/s]/tmp/ipykernel_13691/1791842788.py:12: DtypeWarning: Columns (3,4) have mixed types. Specify dtype option on import or set low_memory=False.\n",
      "  df = pd.read_csv(file_path)\n",
      "Reading CSV files:  95%|███████████▍| 776/814 [08:12<00:19,  1.91it/s]/tmp/ipykernel_13691/1791842788.py:12: DtypeWarning: Columns (3,4) have mixed types. Specify dtype option on import or set low_memory=False.\n",
      "  df = pd.read_csv(file_path)\n",
      "Reading CSV files:  95%|███████████▍| 777/814 [08:13<00:19,  1.95it/s]/tmp/ipykernel_13691/1791842788.py:12: DtypeWarning: Columns (3,4) have mixed types. Specify dtype option on import or set low_memory=False.\n",
      "  df = pd.read_csv(file_path)\n",
      "Reading CSV files:  96%|███████████▍| 778/814 [08:14<00:27,  1.32it/s]/tmp/ipykernel_13691/1791842788.py:12: DtypeWarning: Columns (3,4) have mixed types. Specify dtype option on import or set low_memory=False.\n",
      "  df = pd.read_csv(file_path)\n",
      "Reading CSV files:  96%|███████████▍| 779/814 [08:14<00:23,  1.47it/s]/tmp/ipykernel_13691/1791842788.py:12: DtypeWarning: Columns (3,4) have mixed types. Specify dtype option on import or set low_memory=False.\n",
      "  df = pd.read_csv(file_path)\n",
      "Reading CSV files:  96%|███████████▌| 783/814 [08:17<00:17,  1.80it/s]/tmp/ipykernel_13691/1791842788.py:12: DtypeWarning: Columns (3,4) have mixed types. Specify dtype option on import or set low_memory=False.\n",
      "  df = pd.read_csv(file_path)\n",
      "Reading CSV files:  97%|███████████▋| 790/814 [08:21<00:15,  1.55it/s]/tmp/ipykernel_13691/1791842788.py:12: DtypeWarning: Columns (3,4) have mixed types. Specify dtype option on import or set low_memory=False.\n",
      "  df = pd.read_csv(file_path)\n"
     ]
    },
    {
     "name": "stderr",
     "output_type": "stream",
     "text": [
      "Reading CSV files:  97%|███████████▋| 793/814 [08:23<00:11,  1.87it/s]/tmp/ipykernel_13691/1791842788.py:12: DtypeWarning: Columns (3,4) have mixed types. Specify dtype option on import or set low_memory=False.\n",
      "  df = pd.read_csv(file_path)\n",
      "Reading CSV files:  98%|███████████▋| 794/814 [08:23<00:10,  1.92it/s]/tmp/ipykernel_13691/1791842788.py:12: DtypeWarning: Columns (3,4) have mixed types. Specify dtype option on import or set low_memory=False.\n",
      "  df = pd.read_csv(file_path)\n",
      "Reading CSV files:  98%|███████████▋| 795/814 [08:24<00:10,  1.89it/s]/tmp/ipykernel_13691/1791842788.py:12: DtypeWarning: Columns (3,4) have mixed types. Specify dtype option on import or set low_memory=False.\n",
      "  df = pd.read_csv(file_path)\n",
      "Reading CSV files:  99%|███████████▉| 806/814 [08:31<00:04,  1.63it/s]/tmp/ipykernel_13691/1791842788.py:12: DtypeWarning: Columns (3,4) have mixed types. Specify dtype option on import or set low_memory=False.\n",
      "  df = pd.read_csv(file_path)\n",
      "Reading CSV files: 100%|███████████▉| 813/814 [08:33<00:00,  2.45it/s]/tmp/ipykernel_13691/1791842788.py:12: DtypeWarning: Columns (3,4) have mixed types. Specify dtype option on import or set low_memory=False.\n",
      "  df = pd.read_csv(file_path)\n",
      "Reading CSV files: 100%|████████████| 814/814 [08:34<00:00,  1.58it/s]\n"
     ]
    },
    {
     "name": "stdout",
     "output_type": "stream",
     "text": [
      "Combined file written to combined_iPC815_output.csv\n"
     ]
    }
   ],
   "source": [
    "import pandas as pd\n",
    "import os\n",
    "from tqdm import tqdm  # 如果需要进度条\n",
    "\n",
    "folder_path = '/data1/xpgeng/cross_pathogen/FBA/iPC815-3KO/'\n",
    "csv_files = [f for f in os.listdir(folder_path) if f.endswith('.csv')]\n",
    "\n",
    "df_list = []\n",
    "for file in tqdm(csv_files, desc=\"Reading CSV files\"):\n",
    "    file_path = os.path.join(folder_path, file)\n",
    "    try:\n",
    "        df = pd.read_csv(file_path)\n",
    "        df_list.append(df)\n",
    "    except Exception as e:\n",
    "        print(f\"Error reading {file_path}: {e}\")\n",
    "\n",
    "if df_list:\n",
    "    combined_df = pd.concat(df_list, ignore_index=True)\n",
    "    output_path = 'combined_iPC815_output.csv'\n",
    "    combined_df.to_csv(output_path, index=False)\n",
    "    print(f\"Combined file written to {output_path}\")\n",
    "else:\n",
    "    print(\"No data to combine.\")"
   ]
  },
  {
   "cell_type": "code",
   "execution_count": 4,
   "id": "15e801d6",
   "metadata": {},
   "outputs": [
    {
     "name": "stdout",
     "output_type": "stream",
     "text": [
      "268653502\n"
     ]
    }
   ],
   "source": [
    "import csv\n",
    "three_gene = {}\n",
    "with open('/data1/xpgeng/cross_pathogen/FBA/' +'combined_iPC815_output.csv', 'r') as csvfile:\n",
    "    reader = csv.reader(csvfile)\n",
    "    next(reader) \n",
    "    for row in reader:\n",
    "        #print(len(row))\n",
    "        try:\n",
    "            \n",
    "            if len(row) == 6 and 'Gene' not in row and 'Failed' not in row:            \n",
    "                three_gene[row[0], row[1], row[2]] = float(row[5])  \n",
    "        except:\n",
    "            print(row)\n",
    "    print(len(three_gene)) "
   ]
  },
  {
   "cell_type": "code",
   "execution_count": 5,
   "id": "97cc301c",
   "metadata": {},
   "outputs": [
    {
     "name": "stderr",
     "output_type": "stream",
     "text": [
      "100%|███████████████| 268653502/268653502 [11:30<00:00, 389054.09it/s]"
     ]
    },
    {
     "name": "stdout",
     "output_type": "stream",
     "text": [
      "89560678\n"
     ]
    },
    {
     "name": "stderr",
     "output_type": "stream",
     "text": [
      "\n"
     ]
    }
   ],
   "source": [
    "# merge dedundant elements\n",
    "\n",
    "sorted_key_dict = {}\n",
    "\n",
    "for key, value in tqdm(three_gene.items()):\n",
    "    # 对键进行排序\n",
    "    sorted_key = tuple(sorted(key))\n",
    "    \n",
    "    # 将排序后的键和值存入新字典\n",
    "    sorted_key_dict[sorted_key] = value\n",
    "\n",
    "print(len(sorted_key_dict))"
   ]
  },
  {
   "cell_type": "code",
   "execution_count": 6,
   "id": "b0c4d17e",
   "metadata": {},
   "outputs": [
    {
     "data": {
      "text/plain": [
       "89561164.0"
      ]
     },
     "execution_count": 6,
     "metadata": {},
     "output_type": "execute_result"
    }
   ],
   "source": [
    "814*813*812/6"
   ]
  },
  {
   "cell_type": "code",
   "execution_count": 24,
   "id": "f1313ead",
   "metadata": {},
   "outputs": [
    {
     "name": "stdout",
     "output_type": "stream",
     "text": [
      "39936493\n"
     ]
    }
   ],
   "source": [
    "\n",
    "count = 0\n",
    "for k, value in sorted_key_dict.items():\n",
    "    if value == 1.0:\n",
    "        count += 1\n",
    "\n",
    "\n",
    "print(count)  "
   ]
  },
  {
   "cell_type": "markdown",
   "id": "38041e96",
   "metadata": {},
   "source": [
    "### Features Processing"
   ]
  },
  {
   "cell_type": "code",
   "execution_count": 7,
   "id": "fe92679e",
   "metadata": {},
   "outputs": [
    {
     "name": "stdout",
     "output_type": "stream",
     "text": [
      "814\n"
     ]
    }
   ],
   "source": [
    "# protein =============================================================\n",
    "\n",
    "from tqdm import tqdm\n",
    "\n",
    "from Bio import SeqIO\n",
    "\n",
    "path = '/data1/xpgeng/cross_pathogen/fasta/'\n",
    "# calculate features 2-mer\n",
    "amino_acids = 'ACDEFGHIKLMNPQRSTVWY'\n",
    "all_2_mers = [a+b for a in amino_acids for b in amino_acids]\n",
    "\n",
    "pepdic = {}\n",
    "for r in SeqIO.parse(path + 'iPC815_protein.fasta', 'fasta'):     \n",
    "    pepdic[r.id] = str(r.seq)\n",
    "print(len(pepdic))\n",
    "\n",
    "two_mer_feature_dic = {}\n",
    "for gene, sequ in pepdic.items():\n",
    "    feature_vector = {two_mer: 0 for two_mer in all_2_mers}  \n",
    "    for i in range(len(sequ) - 1):\n",
    "        mer = sequ[i:i+2]\n",
    "        if mer in feature_vector:\n",
    "            feature_vector[mer] += 1   \n",
    "    two_mer_feature_dic[gene] = [feature_vector[mer] for mer in all_2_mers]\n"
   ]
  },
  {
   "cell_type": "markdown",
   "id": "0e85b541",
   "metadata": {},
   "source": [
    "### Train_test Split"
   ]
  },
  {
   "cell_type": "markdown",
   "id": "ddcff74b",
   "metadata": {},
   "source": [
    "YPO1222 one ko fail, it is related too many reactions, delete it  \\\n",
    "YPO2264 has no protein sequence, add it from Uniprot, Q8ZEB6"
   ]
  },
  {
   "cell_type": "code",
   "execution_count": 8,
   "id": "e52ef9d7",
   "metadata": {},
   "outputs": [],
   "source": [
    "import numpy as np\n",
    "from tqdm import tqdm\n",
    "\n",
    "three_gene_items = list(sorted_key_dict.items())\n",
    "\n",
    "np.random.shuffle(three_gene_items)"
   ]
  },
  {
   "cell_type": "code",
   "execution_count": 26,
   "id": "3a2e9b91",
   "metadata": {},
   "outputs": [],
   "source": [
    "ss = len(three_gene_items) // 10"
   ]
  },
  {
   "cell_type": "code",
   "execution_count": 29,
   "id": "a9f2ad25",
   "metadata": {},
   "outputs": [
    {
     "data": {
      "text/plain": [
       "8956067"
      ]
     },
     "execution_count": 29,
     "metadata": {},
     "output_type": "execute_result"
    }
   ],
   "source": [
    "ss"
   ]
  },
  {
   "cell_type": "markdown",
   "id": "5a673dc4",
   "metadata": {},
   "source": [
    "to fully use all data, we divide data into 10 parts, each of them has 9,000,0000 elements."
   ]
  },
  {
   "cell_type": "code",
   "execution_count": 9,
   "id": "5c54bc83",
   "metadata": {},
   "outputs": [
    {
     "name": "stderr",
     "output_type": "stream",
     "text": [
      "100%|█████████████████████| 4500000/4500000 [09:22<00:00, 8007.01it/s]\n",
      "100%|█████████████████████| 4500000/4500000 [08:34<00:00, 8738.13it/s]\n",
      "100%|█████████████████████| 4500000/4500000 [09:51<00:00, 7612.08it/s]\n",
      "100%|█████████████████████| 4500000/4500000 [09:13<00:00, 8124.97it/s]\n",
      "100%|█████████████████████| 4500000/4500000 [08:32<00:00, 8776.51it/s]\n",
      "100%|█████████████████████| 4500000/4500000 [08:54<00:00, 8414.59it/s]\n",
      "100%|█████████████████████| 4500000/4500000 [09:02<00:00, 8301.91it/s]\n",
      "100%|█████████████████████| 4500000/4500000 [07:43<00:00, 9698.75it/s]\n",
      "100%|█████████████████████| 4500000/4500000 [09:04<00:00, 8263.97it/s]\n",
      "100%|█████████████████████| 4500000/4500000 [09:12<00:00, 8149.35it/s]\n",
      "100%|█████████████████████| 4500000/4500000 [07:54<00:00, 9473.72it/s]\n",
      "100%|█████████████████████| 4500000/4500000 [08:32<00:00, 8785.84it/s]\n",
      "100%|█████████████████████| 4500000/4500000 [08:40<00:00, 8640.65it/s]\n",
      "100%|█████████████████████| 4500000/4500000 [08:33<00:00, 8768.03it/s]\n",
      "100%|█████████████████████| 4500000/4500000 [07:34<00:00, 9890.83it/s]\n",
      "100%|█████████████████████| 4500000/4500000 [08:29<00:00, 8825.71it/s]\n",
      "100%|████████████████████| 4500000/4500000 [07:10<00:00, 10449.13it/s]\n",
      "100%|█████████████████████| 4500000/4500000 [08:32<00:00, 8778.05it/s]\n",
      "100%|█████████████████████| 4500000/4500000 [08:29<00:00, 8832.20it/s]\n",
      "100%|█████████████████████| 4060678/4060678 [07:45<00:00, 8718.80it/s]\n"
     ]
    }
   ],
   "source": [
    "for i in range(20):\n",
    "    sampled_three_gene = three_gene_items[i*4500000: (i+1)*4500000]\n",
    "\n",
    "    feature_list = []\n",
    "    label_list = []\n",
    "\n",
    "    for key, value in tqdm(sampled_three_gene):\n",
    "        try:\n",
    "\n",
    "            features = [a + b + c for a, b, c in zip(two_mer_feature_dic[key[0]],\n",
    "                                                 two_mer_feature_dic[key[1]],\n",
    "                                                 two_mer_feature_dic[key[2]])]\n",
    "\n",
    "            feature_list.append(features)\n",
    "            label_list.append(value)\n",
    "        except:\n",
    "            print(key)\n",
    "\n",
    "    X = np.array(feature_list)\n",
    "    y = np.array(label_list)\n",
    "\n",
    "    import pickle\n",
    "    with open(f'/data2/xpgeng/iPC815/X_{i}.pickle', 'wb') as f:\n",
    "        pickle.dump(X, f)\n",
    "\n",
    "    with open(f'/data2/xpgeng/iPC815/y_{i}.pickle', 'wb') as f:\n",
    "        pickle.dump(y, f)"
   ]
  },
  {
   "cell_type": "code",
   "execution_count": null,
   "id": "600ca6e3",
   "metadata": {},
   "outputs": [],
   "source": []
  },
  {
   "cell_type": "code",
   "execution_count": null,
   "id": "2c72043b",
   "metadata": {},
   "outputs": [],
   "source": []
  }
 ],
 "metadata": {
  "kernelspec": {
   "display_name": "Python 3 (ipykernel)",
   "language": "python",
   "name": "python3"
  },
  "language_info": {
   "codemirror_mode": {
    "name": "ipython",
    "version": 3
   },
   "file_extension": ".py",
   "mimetype": "text/x-python",
   "name": "python",
   "nbconvert_exporter": "python",
   "pygments_lexer": "ipython3",
   "version": "3.8.16"
  }
 },
 "nbformat": 4,
 "nbformat_minor": 5
}
